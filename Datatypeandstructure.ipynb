{
  "nbformat": 4,
  "nbformat_minor": 0,
  "metadata": {
    "colab": {
      "provenance": []
    },
    "kernelspec": {
      "name": "python3",
      "display_name": "Python 3"
    },
    "language_info": {
      "name": "python"
    }
  },
  "cells": [
    {
      "cell_type": "markdown",
      "source": [
        "### **Data types and structures **"
      ],
      "metadata": {
        "id": "fqib94kAiU6X"
      }
    },
    {
      "cell_type": "markdown",
      "source": [
        "1.What are data structures, and why are they important!\n",
        "\n",
        "* Data structures are specialized formats for organizing, storing, and accessing collections of data. They provide efficient ways to manage information based on its characteristics and intended use.\n",
        "* why are they important\n",
        "*Choosing the right data structure significantly impacts the efficiency and performance of your program.\n",
        "*Well-chosen data structures can:Simplify data manipulation (adding, removing, modifying elements).\n",
        "*Optimize searching and sorting operations.\n",
        "*Conserve memory usage.\n",
        "\n",
        "\n",
        "\n",
        "\n",
        "\n",
        "\n"
      ],
      "metadata": {
        "id": "zL-3N7wti7X-"
      }
    },
    {
      "cell_type": "markdown",
      "source": [
        "2 Explain the difference between mutable and immutable data types with examples"
      ],
      "metadata": {
        "id": "ikGS44RDi7BC"
      }
    },
    {
      "cell_type": "markdown",
      "source": [
        "* Mutable data type\n",
        "\n",
        "*Definition:Objects whose contents(value/state)can be changed after creation. *Example: list,dict,se"
      ],
      "metadata": {
        "id": "cuSMBnn7lGAG"
      }
    },
    {
      "cell_type": "code",
      "source": [
        "#example"
      ],
      "metadata": {
        "id": "5E_jDMvQl_on"
      },
      "execution_count": null,
      "outputs": []
    },
    {
      "cell_type": "code",
      "source": [
        "my_list=[1,2,3]\n",
        "my_list[2]=10\n",
        "print(my_list)"
      ],
      "metadata": {
        "colab": {
          "base_uri": "https://localhost:8080/"
        },
        "id": "5Sz0A41fmDjU",
        "outputId": "d31ce86e-affd-42da-d12a-24837d313a77"
      },
      "execution_count": null,
      "outputs": [
        {
          "output_type": "stream",
          "name": "stdout",
          "text": [
            "[1, 2, 10]\n"
          ]
        }
      ]
    },
    {
      "cell_type": "markdown",
      "source": [
        "* Immutable data type\n",
        "* Definition: Objects whose contents cannot be changed after creation.Any operation that seems to modify them acually creats a new object.\n",
        "\n",
        "* Example:int,float,str,tuple"
      ],
      "metadata": {
        "id": "A2XQ__8TmyH4"
      }
    },
    {
      "cell_type": "code",
      "source": [
        "#example"
      ],
      "metadata": {
        "id": "2BllqURQmDEn"
      },
      "execution_count": null,
      "outputs": []
    },
    {
      "cell_type": "code",
      "source": [
        "string1=\"hello python\"\n",
        "print(string1)\n",
        "print(type(string1))"
      ],
      "metadata": {
        "colab": {
          "base_uri": "https://localhost:8080/"
        },
        "id": "d4_tr7rLnOP4",
        "outputId": "7be22d49-88b4-48ac-f906-9998e07e7076"
      },
      "execution_count": null,
      "outputs": [
        {
          "output_type": "stream",
          "name": "stdout",
          "text": [
            "hello python\n",
            "<class 'str'>\n"
          ]
        }
      ]
    },
    {
      "cell_type": "code",
      "source": [
        "string1[1]='a'"
      ],
      "metadata": {
        "colab": {
          "base_uri": "https://localhost:8080/",
          "height": 147
        },
        "id": "FP0_BJgAnOrT",
        "outputId": "8c3d850f-574d-42df-9c88-7a3fc451aa9b"
      },
      "execution_count": null,
      "outputs": [
        {
          "output_type": "error",
          "ename": "TypeError",
          "evalue": "'str' object does not support item assignment",
          "traceback": [
            "\u001b[0;31m---------------------------------------------------------------------------\u001b[0m",
            "\u001b[0;31mTypeError\u001b[0m                                 Traceback (most recent call last)",
            "\u001b[0;32m<ipython-input-3-44bcdcb176bf>\u001b[0m in \u001b[0;36m<cell line: 0>\u001b[0;34m()\u001b[0m\n\u001b[0;32m----> 1\u001b[0;31m \u001b[0mstring1\u001b[0m\u001b[0;34m[\u001b[0m\u001b[0;36m1\u001b[0m\u001b[0;34m]\u001b[0m\u001b[0;34m=\u001b[0m\u001b[0;34m'a'\u001b[0m\u001b[0;34m\u001b[0m\u001b[0;34m\u001b[0m\u001b[0m\n\u001b[0m",
            "\u001b[0;31mTypeError\u001b[0m: 'str' object does not support item assignment"
          ]
        }
      ]
    },
    {
      "cell_type": "markdown",
      "source": [
        "3.What are the main differences between lists and tuples in Python?\n",
        "\n",
        "* list is mutable and tuple is immutable"
      ],
      "metadata": {
        "id": "lgTiDHY0o8Al"
      }
    },
    {
      "cell_type": "markdown",
      "source": [
        "4.Describe how dictionaries store data\n",
        "* Disctionaries are used to store data values in key:value pairs."
      ],
      "metadata": {
        "id": "rBLvczf_sT-w"
      }
    },
    {
      "cell_type": "markdown",
      "source": [
        "5.Why might you use a set instead of a list in Python?"
      ],
      "metadata": {
        "id": "rS7hcb3DtfXA"
      }
    },
    {
      "cell_type": "markdown",
      "source": [
        "* Because set automatically remove duplicates,order of items is not preserved,iteam in set must be hashable(like numbers,strings,tuples)"
      ],
      "metadata": {
        "id": "K5_CEgPkuIq4"
      }
    },
    {
      "cell_type": "markdown",
      "source": [
        "6.What is a string in Python, and how is it different from a list?\n",
        "\n",
        "*A string in python is ac sequence of characters enclosed in quotes-single,double,or triple.\n",
        " Each character in the string can be accessed by its index, or position. Substrings can be extracted using slicing. Strings can be joined together and altered using a variety of techniques (find, replace, etc.)."
      ],
      "metadata": {
        "id": "RNACgPe_wcQF"
      }
    },
    {
      "cell_type": "markdown",
      "source": [
        "7.How do tuples ensure data integrity in Python\n",
        "\n",
        "* Being immutable,which prevents accidental changes.\n",
        "* beign hashable,so they can be reliably ussed in sets or as dict key\n",
        "* signaling that the data is fixed and structured,ideal for configuration,coordinates,or setting."
      ],
      "metadata": {
        "id": "YRZ_D7e9yBb0"
      }
    },
    {
      "cell_type": "markdown",
      "source": [
        "8.What is a hash table, and how does it relate to dictionaries in Python"
      ],
      "metadata": {
        "id": "EZN5csED51Hw"
      }
    },
    {
      "cell_type": "markdown",
      "source": [
        "* A hash table is a data structure that stores key-value pairs and allows fast access to value based on keys.\n",
        "* A python dictionary is high-level implemention of that concept-it uses hash table internally to store and access data quickly."
      ],
      "metadata": {
        "id": "C0GgOnb25-AJ"
      }
    },
    {
      "cell_type": "markdown",
      "source": [
        "9.Can lists contain different data types in Python\n",
        "\n",
        "* Yes"
      ],
      "metadata": {
        "id": "tkV_FYDy7Vjv"
      }
    },
    {
      "cell_type": "markdown",
      "source": [
        "10. Explain why strings are immutable in Python\n",
        "\n",
        "* Allow efficient memory ise and caching\n",
        "* Improve thread safety and security\n",
        "* make code easier to understand and debug"
      ],
      "metadata": {
        "id": "1Ncb0N0U8A7m"
      }
    },
    {
      "cell_type": "markdown",
      "source": [
        "11.What advantages do dictionaries offer over lists for certain tasks\n",
        "\n",
        "* Retriveing stored values as it is much simpler to search through a dictionary.\n"
      ],
      "metadata": {
        "id": "n0gX_N9T9apN"
      }
    },
    {
      "cell_type": "markdown",
      "source": [
        "12.Describe a scenario where using a tuple would be preferable over a list\n",
        "\n",
        "* When we want ro ensure that data is not changed accidentally.\n",
        "* When we want faster access to data that will not change.\n",
        "* When we want to use the data as a key in a dictionary.\n",
        "* When we want to use the data as an element of a set."
      ],
      "metadata": {
        "id": "QlaV-WhxHsNZ"
      }
    },
    {
      "cell_type": "markdown",
      "source": [
        "13. How do sets handle duplicate values in Python\n",
        "\n",
        "* The set automatically ignores duplicate value in python."
      ],
      "metadata": {
        "id": "2Gq_rhqnG_0b"
      }
    },
    {
      "cell_type": "markdown",
      "source": [
        " 14.How does the “in” keyword work differently for lists and dictionaries\n",
        "\n",
        " * For list, when you use 'in' with a list, it checks whether the value is present in the list\n",
        " * When you use 'in' with a dictionary, it checks whether the key is present."
      ],
      "metadata": {
        "id": "Sbc2AtWjH-O_"
      }
    },
    {
      "cell_type": "markdown",
      "source": [
        "15.Can you modify the elements of a tuple? Explain why or why not\n",
        "\n",
        "* No, you cannot modify the elements of a tuole-tuples are immutable.\n",
        "* why: A tuple is similar to a list,but once its created,its contents cannot  changed.\n",
        "* This means you can't add,remove,or change individual items in tuple.\n"
      ],
      "metadata": {
        "id": "z3-TH1-HLgtm"
      }
    },
    {
      "cell_type": "markdown",
      "source": [
        "16.What is a nested dictionary, and give an example of its use case\n",
        "\n",
        "* A nested dictionary is a dictionary whithin another dictionary- it lets you store structured data.\n"
      ],
      "metadata": {
        "id": "tc_wOmlLGUp3"
      }
    },
    {
      "cell_type": "code",
      "source": [
        "#example"
      ],
      "metadata": {
        "id": "EGjJQFDSN3ML"
      },
      "execution_count": null,
      "outputs": []
    },
    {
      "cell_type": "code",
      "source": [
        "people = {1: {'name': 'John', 'age': '27', 'sex': 'Male'},\n",
        "          2: {'name': 'Marie', 'age': '22', 'sex': 'Female'}}\n",
        "\n",
        "print(people[1]['name'])\n",
        "print(people[1]['age'])\n",
        "print(people[1]['sex'])"
      ],
      "metadata": {
        "colab": {
          "base_uri": "https://localhost:8080/"
        },
        "id": "DEhKxdQYN4EL",
        "outputId": "bd0e10e4-b95e-4e92-f85b-bf55fb404a6e"
      },
      "execution_count": null,
      "outputs": [
        {
          "output_type": "stream",
          "name": "stdout",
          "text": [
            "John\n",
            "27\n",
            "Male\n"
          ]
        }
      ]
    },
    {
      "cell_type": "markdown",
      "source": [
        "17.Describe the time complexity of accessing elements in a dictionary\n",
        "\n",
        "* The space complexity of a dictionary is O(n), where n is the number of key-value pairs in the dictionary. This is because a dictionary stores each key-value pair as a separate object in memory."
      ],
      "metadata": {
        "id": "1vfZVovtTlXx"
      }
    },
    {
      "cell_type": "markdown",
      "source": [
        "18. In what situations are lists preferred over dictionaries?\n",
        "\n",
        "* Order matters and you access by position.\n",
        "* Duplicates are allowed.\n",
        "* No need for unique keys-just value.\n",
        "* Less memory is preferred."
      ],
      "metadata": {
        "id": "aQt7LTF_XI2Y"
      }
    },
    {
      "cell_type": "markdown",
      "source": [
        "19.Why are dictionaries considered unordered, and how does that affect data retrieval?\n",
        "\n",
        "* Dictionaries are concidered unordered because they store data as key-value pairs without maintaining a specific order of insertion.\n",
        "* Effect on data retrieval:  you can't rely on oreder, access by key only.\n",
        "\n",
        "\n"
      ],
      "metadata": {
        "id": "8J-Z8PEei6J3"
      }
    },
    {
      "cell_type": "markdown",
      "source": [
        "20. Explain the difference between a list and a dictionary in terms of data retrieval\n",
        "* Lists are suitable when the order of element is important and elements are accessed sequentially\n",
        "* Dictionaries are suitable when quick and efficient data retrieval is neede based on unique identifiers(keys)"
      ],
      "metadata": {
        "id": "YDJ7pvvut64s"
      }
    },
    {
      "cell_type": "markdown",
      "source": [
        "# **Practical** **questions**"
      ],
      "metadata": {
        "id": "XkLgLRYtxMDu"
      }
    },
    {
      "cell_type": "code",
      "source": [
        "#1.Write a code to create a string with your name and print it"
      ],
      "metadata": {
        "id": "qs45sIXDxy4w"
      },
      "execution_count": null,
      "outputs": []
    },
    {
      "cell_type": "code",
      "source": [
        "name = \"payal\"\n",
        "print(name)"
      ],
      "metadata": {
        "colab": {
          "base_uri": "https://localhost:8080/"
        },
        "id": "SF1XkpmWx6ma",
        "outputId": "e9a334cf-5bc6-4471-c236-03955ab78016"
      },
      "execution_count": null,
      "outputs": [
        {
          "output_type": "stream",
          "name": "stdout",
          "text": [
            "payal\n"
          ]
        }
      ]
    },
    {
      "cell_type": "code",
      "source": [
        "#2.Write a code to find the length of the string \"Hello World\""
      ],
      "metadata": {
        "id": "kC8q9nbbx6ZA"
      },
      "execution_count": null,
      "outputs": []
    },
    {
      "cell_type": "code",
      "source": [
        "string=\"hello world\"\n",
        "print(len(string))"
      ],
      "metadata": {
        "colab": {
          "base_uri": "https://localhost:8080/"
        },
        "id": "JY8YHYjDx6M0",
        "outputId": "55b52dc4-ec22-4113-f129-6300a8edffb4"
      },
      "execution_count": null,
      "outputs": [
        {
          "output_type": "stream",
          "name": "stdout",
          "text": [
            "11\n"
          ]
        }
      ]
    },
    {
      "cell_type": "code",
      "source": [
        "#3.Write a code to slice the first 3 characters from the string\n",
        "\"Python Programming"
      ],
      "metadata": {
        "id": "0xdqKgGPx5-f"
      },
      "execution_count": null,
      "outputs": []
    },
    {
      "cell_type": "code",
      "source": [
        "string=\"python programming\"\n",
        "print(string[0:3])"
      ],
      "metadata": {
        "colab": {
          "base_uri": "https://localhost:8080/"
        },
        "id": "1xW0f_76y93i",
        "outputId": "e6090b5b-8783-4fce-e94e-fb1dc0e57a67"
      },
      "execution_count": null,
      "outputs": [
        {
          "output_type": "stream",
          "name": "stdout",
          "text": [
            "pyt\n"
          ]
        }
      ]
    },
    {
      "cell_type": "code",
      "source": [
        "#4.Write a code to convert the string \"hello\" to uppercase"
      ],
      "metadata": {
        "id": "bm0uFxoEx5bf"
      },
      "execution_count": null,
      "outputs": []
    },
    {
      "cell_type": "code",
      "source": [
        "string = \"hello\"\n",
        "print(string.upper())"
      ],
      "metadata": {
        "colab": {
          "base_uri": "https://localhost:8080/"
        },
        "id": "LMCpIoxaxyLN",
        "outputId": "91942b25-8195-4a59-d0fc-ea984d5ffa1f"
      },
      "execution_count": null,
      "outputs": [
        {
          "output_type": "stream",
          "name": "stdout",
          "text": [
            "HELLO\n"
          ]
        }
      ]
    },
    {
      "cell_type": "code",
      "source": [
        "#5.Write a code to replace the word \"apple\" with \"orange\" in the string\n",
        "\"I like apple"
      ],
      "metadata": {
        "id": "j7N2UkD0z41V"
      },
      "execution_count": null,
      "outputs": []
    },
    {
      "cell_type": "code",
      "source": [
        "string = \"I like apple\"\n",
        "new_string = string.replace(\"apple\",\"orange\")\n",
        "print(new_string)"
      ],
      "metadata": {
        "colab": {
          "base_uri": "https://localhost:8080/"
        },
        "id": "oABG9LNkz52n",
        "outputId": "fc2c1018-a384-4ed6-9811-0bf14edc5b31"
      },
      "execution_count": null,
      "outputs": [
        {
          "output_type": "stream",
          "name": "stdout",
          "text": [
            "I like orange\n"
          ]
        }
      ]
    },
    {
      "cell_type": "code",
      "source": [
        " #6.Write a code to create a list with numbers 1 to 5 and print it"
      ],
      "metadata": {
        "id": "mzZS_3Grz5zD"
      },
      "execution_count": null,
      "outputs": []
    },
    {
      "cell_type": "code",
      "source": [
        "numbers = [1,2,3,4,5]\n",
        "print(numbers)"
      ],
      "metadata": {
        "colab": {
          "base_uri": "https://localhost:8080/"
        },
        "id": "vHGy0awoxyHr",
        "outputId": "5be40350-9264-4cfa-b6c4-4e842155737c"
      },
      "execution_count": null,
      "outputs": [
        {
          "output_type": "stream",
          "name": "stdout",
          "text": [
            "[1, 2, 3, 4, 5]\n"
          ]
        }
      ]
    },
    {
      "cell_type": "code",
      "source": [
        "#7.Write a code to append the number 10 to the list [1, 2, 3, 4]"
      ],
      "metadata": {
        "id": "yNeVgrCl1roC"
      },
      "execution_count": null,
      "outputs": []
    },
    {
      "cell_type": "code",
      "source": [
        "my_list = [1,2,3,4]\n",
        "my_list.append(10)\n",
        "print(my_list)"
      ],
      "metadata": {
        "colab": {
          "base_uri": "https://localhost:8080/"
        },
        "id": "3Ppb3fc21rgO",
        "outputId": "4a8d308c-cd66-4241-fdcf-88f19cd9453a"
      },
      "execution_count": null,
      "outputs": [
        {
          "output_type": "stream",
          "name": "stdout",
          "text": [
            "[1, 2, 3, 4, 10]\n"
          ]
        }
      ]
    },
    {
      "cell_type": "code",
      "source": [
        "#8.Write a code to remove the number 3 from the list [1, 2, 3, 4, 5]"
      ],
      "metadata": {
        "id": "4DdCHn3X1rYO"
      },
      "execution_count": null,
      "outputs": []
    },
    {
      "cell_type": "code",
      "source": [
        "my_list = [1,2,3,4,5]\n",
        "my_list.remove(3)\n",
        "print(my_list)"
      ],
      "metadata": {
        "colab": {
          "base_uri": "https://localhost:8080/"
        },
        "id": "IC5OE1ji2RDh",
        "outputId": "a318f3f1-50bc-47b5-8f12-23a68c335ade"
      },
      "execution_count": null,
      "outputs": [
        {
          "output_type": "stream",
          "name": "stdout",
          "text": [
            "[1, 2, 4, 5]\n"
          ]
        }
      ]
    },
    {
      "cell_type": "code",
      "source": [
        "#9.Write a code to access the second element in the list ['a', 'b', 'c', 'd']\n"
      ],
      "metadata": {
        "id": "nGPV_1f91rRc"
      },
      "execution_count": null,
      "outputs": []
    },
    {
      "cell_type": "code",
      "source": [
        "my_list = ['a', 'b', 'c', 'd']\n",
        "second_element = my_list[1]\n",
        "print(second_element)"
      ],
      "metadata": {
        "colab": {
          "base_uri": "https://localhost:8080/"
        },
        "id": "V74lPCWD1rKc",
        "outputId": "1357fa2a-a6e7-4184-d647-c65e74089678"
      },
      "execution_count": null,
      "outputs": [
        {
          "output_type": "stream",
          "name": "stdout",
          "text": [
            "b\n"
          ]
        }
      ]
    },
    {
      "cell_type": "code",
      "source": [
        "#10. Write a code to reverse the list [10, 20, 30, 40, 50]"
      ],
      "metadata": {
        "id": "i53001Z01rEe"
      },
      "execution_count": null,
      "outputs": []
    },
    {
      "cell_type": "code",
      "source": [
        "my_list = [10,20,30,40,50]\n",
        "my_list.reverse()\n",
        "print(my_list)"
      ],
      "metadata": {
        "colab": {
          "base_uri": "https://localhost:8080/"
        },
        "id": "dYjoR0XI3iGe",
        "outputId": "68b16e01-b13a-47e1-e66d-bd4b4c87e22b"
      },
      "execution_count": null,
      "outputs": [
        {
          "output_type": "stream",
          "name": "stdout",
          "text": [
            "[50, 40, 30, 20, 10]\n"
          ]
        }
      ]
    },
    {
      "cell_type": "code",
      "source": [
        "#11.Write a code to create a tuple with the elements 100, 200, 300 and print it."
      ],
      "metadata": {
        "id": "Q-VKZIWf3iC0"
      },
      "execution_count": null,
      "outputs": []
    },
    {
      "cell_type": "code",
      "source": [
        "my_tuple = (100,200,300)\n",
        "print(my_tuple)"
      ],
      "metadata": {
        "colab": {
          "base_uri": "https://localhost:8080/"
        },
        "id": "yuiHvRdC3iAI",
        "outputId": "ceb72fd3-1e69-4bec-c365-93bf85c80993"
      },
      "execution_count": null,
      "outputs": [
        {
          "output_type": "stream",
          "name": "stdout",
          "text": [
            "(100, 200, 300)\n"
          ]
        }
      ]
    },
    {
      "cell_type": "code",
      "source": [
        "#12.Write a code to access the second-to-last element of the tuple\n",
        " ('red', 'green', 'blue', 'yellow')."
      ],
      "metadata": {
        "id": "UBwaVNp63h9X"
      },
      "execution_count": null,
      "outputs": []
    },
    {
      "cell_type": "code",
      "source": [
        "colors = ('red', 'green', 'blue', 'yellow')\n",
        "second_to_last = colors[-2]\n",
        "print(second_to_last)"
      ],
      "metadata": {
        "colab": {
          "base_uri": "https://localhost:8080/"
        },
        "id": "2IHwhZvb3h6X",
        "outputId": "5040e470-537a-4adb-a9b8-2ad597518b45"
      },
      "execution_count": null,
      "outputs": [
        {
          "output_type": "stream",
          "name": "stdout",
          "text": [
            "blue\n"
          ]
        }
      ]
    },
    {
      "cell_type": "code",
      "source": [
        "#13.Write a code to find the minimum number in the tuple (10, 20, 5, 15)"
      ],
      "metadata": {
        "id": "6N1L-JwF3hlW"
      },
      "execution_count": null,
      "outputs": []
    },
    {
      "cell_type": "code",
      "source": [
        "my_tuple=(10,20,5,15)\n",
        "min_number=min(my_tuple)\n",
        "print(min_number)"
      ],
      "metadata": {
        "colab": {
          "base_uri": "https://localhost:8080/"
        },
        "id": "gku93GpU3hiC",
        "outputId": "ae1a7b8a-a836-4ba3-fbf9-17b5b394672d"
      },
      "execution_count": null,
      "outputs": [
        {
          "output_type": "stream",
          "name": "stdout",
          "text": [
            "5\n"
          ]
        }
      ]
    },
    {
      "cell_type": "code",
      "source": [
        "#14.Write a code to find the index of the element \"cat\" in the tuple\n",
        " ('dog', 'cat', 'rabbit')."
      ],
      "metadata": {
        "id": "Gy3HRxe43he-"
      },
      "execution_count": null,
      "outputs": []
    },
    {
      "cell_type": "code",
      "source": [
        "animals=('dog','cat','rabbit')\n",
        "index=animals.index('cat')\n",
        "print(index)"
      ],
      "metadata": {
        "colab": {
          "base_uri": "https://localhost:8080/"
        },
        "id": "CYgZzH2u3g8B",
        "outputId": "afd3d676-ffa4-46c8-f50b-1a8298811c17"
      },
      "execution_count": null,
      "outputs": [
        {
          "output_type": "stream",
          "name": "stdout",
          "text": [
            "1\n"
          ]
        }
      ]
    },
    {
      "cell_type": "code",
      "source": [
        "#15.Write a code to create a tuple containing three different fruits\n",
        " and check if \"kiwi\" is in it"
      ],
      "metadata": {
        "id": "zBh0cv161q8a"
      },
      "execution_count": null,
      "outputs": []
    },
    {
      "cell_type": "code",
      "source": [
        "fruits=('apple','banana','orange')\n",
        "if 'kiwi' in fruits:\n",
        "  print(\"kiwi is in the tuple\")\n",
        "else:\n",
        "  print(\"kiwi is not in the tuple\")"
      ],
      "metadata": {
        "colab": {
          "base_uri": "https://localhost:8080/"
        },
        "id": "s8nslOdN1qsm",
        "outputId": "87aa1ca5-3f31-413f-968d-bfdb3cb1aa92"
      },
      "execution_count": null,
      "outputs": [
        {
          "output_type": "stream",
          "name": "stdout",
          "text": [
            "kiwi is not in the tuple\n"
          ]
        }
      ]
    },
    {
      "cell_type": "code",
      "source": [
        "#16. Write a code to create a set with the elements 'a', 'b', 'c' and print it."
      ],
      "metadata": {
        "id": "w2rBJBZ86ZeR"
      },
      "execution_count": null,
      "outputs": []
    },
    {
      "cell_type": "code",
      "source": [
        "my_set={'a','b','c'}\n",
        "print(my_set)"
      ],
      "metadata": {
        "colab": {
          "base_uri": "https://localhost:8080/"
        },
        "id": "e_hqRjH_6kkK",
        "outputId": "2ffadb81-726c-4960-8c29-6e7a9da4a715"
      },
      "execution_count": null,
      "outputs": [
        {
          "output_type": "stream",
          "name": "stdout",
          "text": [
            "{'a', 'c', 'b'}\n"
          ]
        }
      ]
    },
    {
      "cell_type": "code",
      "source": [
        "#17.Write a code to clear all elements from the set {1, 2, 3, 4, 5}."
      ],
      "metadata": {
        "id": "lqSsQvSf6krA"
      },
      "execution_count": null,
      "outputs": []
    },
    {
      "cell_type": "code",
      "source": [
        "my_set={1,2,3,4,5}\n",
        "my_set.clear()\n",
        "print(my_set)"
      ],
      "metadata": {
        "colab": {
          "base_uri": "https://localhost:8080/"
        },
        "id": "CZRC1lTs1p1S",
        "outputId": "fb9f7b3a-0913-4fd6-8479-0f8676cb11e3"
      },
      "execution_count": null,
      "outputs": [
        {
          "output_type": "stream",
          "name": "stdout",
          "text": [
            "set()\n"
          ]
        }
      ]
    },
    {
      "cell_type": "code",
      "source": [
        "#18.Write a code to remove the element 4 from the set {1, 2, 3, 4}"
      ],
      "metadata": {
        "id": "Wi1Q3gm6z49I"
      },
      "execution_count": null,
      "outputs": []
    },
    {
      "cell_type": "code",
      "source": [
        "my_set={1,2,3,4}\n",
        "my_set.remove(4)\n",
        "print(my_set)"
      ],
      "metadata": {
        "colab": {
          "base_uri": "https://localhost:8080/"
        },
        "id": "4cuBf9B8xLZo",
        "outputId": "dbcbe55d-1b86-4c11-a863-00bdb4047fd7"
      },
      "execution_count": null,
      "outputs": [
        {
          "output_type": "stream",
          "name": "stdout",
          "text": [
            "{1, 2, 3}\n"
          ]
        }
      ]
    },
    {
      "cell_type": "code",
      "source": [
        "#19.Write a code to find the union of two sets {1, 2, 3} and {3, 4, 5}."
      ],
      "metadata": {
        "id": "K8ttJ4uPiUbz"
      },
      "execution_count": null,
      "outputs": []
    },
    {
      "cell_type": "code",
      "execution_count": null,
      "metadata": {
        "id": "fd8eyxeaiTO3",
        "colab": {
          "base_uri": "https://localhost:8080/"
        },
        "outputId": "ece08d1a-ea6e-4c05-c444-e47a6d2e4eb9"
      },
      "outputs": [
        {
          "output_type": "stream",
          "name": "stdout",
          "text": [
            "{1, 2, 3, 4, 5}\n"
          ]
        }
      ],
      "source": [
        "set1={1,2,3}\n",
        "set2={3,4,5}\n",
        "union_set=set1| set2\n",
        "print(union_set)\n"
      ]
    },
    {
      "cell_type": "code",
      "source": [
        "#20.Write a code to find the intersection of two sets {1, 2, 3} and {2, 3, 4}"
      ],
      "metadata": {
        "id": "2CfdQ0KN8fQx"
      },
      "execution_count": null,
      "outputs": []
    },
    {
      "cell_type": "code",
      "source": [
        "set1={1,2,3}\n",
        "set2={2,3,4}\n",
        "intersection_set=set1&set2\n",
        "print(intersection_set)"
      ],
      "metadata": {
        "colab": {
          "base_uri": "https://localhost:8080/"
        },
        "id": "raIgpb7m8fKZ",
        "outputId": "73101820-a6b8-4183-cac8-7c232509c193"
      },
      "execution_count": null,
      "outputs": [
        {
          "output_type": "stream",
          "name": "stdout",
          "text": [
            "{2, 3}\n"
          ]
        }
      ]
    },
    {
      "cell_type": "code",
      "source": [
        "#21.Write a code to create a dictionary with the keys \"name\", \"age\", and \"city\",\n",
        " and print it."
      ],
      "metadata": {
        "id": "r5WrGPY38fHR"
      },
      "execution_count": null,
      "outputs": []
    },
    {
      "cell_type": "code",
      "source": [
        "person={'name':'payal','age':29,'city':'vadodara'}\n",
        "print(person)"
      ],
      "metadata": {
        "colab": {
          "base_uri": "https://localhost:8080/"
        },
        "id": "FjzD324P8fEV",
        "outputId": "6e914563-565f-4f70-dfac-586199b0b100"
      },
      "execution_count": null,
      "outputs": [
        {
          "output_type": "stream",
          "name": "stdout",
          "text": [
            "{'name': 'payal', 'age': 29, 'city': 'vadodara'}\n"
          ]
        }
      ]
    },
    {
      "cell_type": "code",
      "source": [
        "#22.Write a code to add a new key-value pair \"country\": \"USA\" to the dictionary\n",
        "{'name': 'John', 'age': 25}."
      ],
      "metadata": {
        "id": "aeZg_iYq8fBZ"
      },
      "execution_count": null,
      "outputs": []
    },
    {
      "cell_type": "code",
      "source": [
        "my_dict={'name':'john','age':25}\n",
        "my_dict['country']='USA'\n",
        "print(my_dict)"
      ],
      "metadata": {
        "colab": {
          "base_uri": "https://localhost:8080/"
        },
        "id": "W_Y18Z0y8e-r",
        "outputId": "d27f1a36-71fa-48de-a3d0-65eb24e422f7"
      },
      "execution_count": null,
      "outputs": [
        {
          "output_type": "stream",
          "name": "stdout",
          "text": [
            "{'name': 'john', 'age': 25, 'country': 'USA'}\n"
          ]
        }
      ]
    },
    {
      "cell_type": "code",
      "source": [
        "#23.Write a code to access the value associated with the key \"name\" in\n",
        "the dictionary {'name': 'Alice', 'age': 30}"
      ],
      "metadata": {
        "id": "OgwS3OM68e77"
      },
      "execution_count": null,
      "outputs": []
    },
    {
      "cell_type": "code",
      "source": [
        "dictionary = {'name': 'Alice', 'age': 30}\n",
        "value = dictionary['name']\n",
        "print(value)"
      ],
      "metadata": {
        "colab": {
          "base_uri": "https://localhost:8080/"
        },
        "id": "XRHa0v2r8e5U",
        "outputId": "9885f660-f6ce-4523-8334-cc0c5b580a1c"
      },
      "execution_count": null,
      "outputs": [
        {
          "output_type": "stream",
          "name": "stdout",
          "text": [
            "Alice\n"
          ]
        }
      ]
    },
    {
      "cell_type": "code",
      "source": [
        "#4.Write a code to remove the key \"age\" from the dictionary {'name': 'Bob',\n",
        "'age': 22, 'city': 'New York'}."
      ],
      "metadata": {
        "id": "DGqEBmfBQoEj"
      },
      "execution_count": null,
      "outputs": []
    },
    {
      "cell_type": "code",
      "source": [
        "my_dict = {'name': 'Bob', 'age': 22, 'city': 'New York'}\n",
        "del my_dict['age']\n",
        "print(my_dict)"
      ],
      "metadata": {
        "colab": {
          "base_uri": "https://localhost:8080/"
        },
        "id": "i4a6f6eFQoBV",
        "outputId": "1311220f-c8db-429e-bc09-e1be017cefe6"
      },
      "execution_count": 1,
      "outputs": [
        {
          "output_type": "stream",
          "name": "stdout",
          "text": [
            "{'name': 'Bob', 'city': 'New York'}\n"
          ]
        }
      ]
    },
    {
      "cell_type": "code",
      "source": [
        "#25.Write a code to check if the key \"city\" exists in the dictionary\n",
        "{'name': 'Alice', 'city': 'Paris'}."
      ],
      "metadata": {
        "id": "Nw_JvJTPRsw3"
      },
      "execution_count": null,
      "outputs": []
    },
    {
      "cell_type": "code",
      "source": [
        "my_dict = {'name':'Alice','city':'Paris'}\n",
        "if 'city' in my_dict:\n",
        "  print(\"city exists in the dictionary\")\n",
        "else:\n",
        "  print(\"city does not exist in the dictionary\")"
      ],
      "metadata": {
        "colab": {
          "base_uri": "https://localhost:8080/"
        },
        "id": "gebz2JH1Qn-n",
        "outputId": "13d35b9e-35cc-4294-d21d-64625909099e"
      },
      "execution_count": 3,
      "outputs": [
        {
          "output_type": "stream",
          "name": "stdout",
          "text": [
            "city exists in the dictionary\n"
          ]
        }
      ]
    },
    {
      "cell_type": "code",
      "source": [
        "#26.Write a code to create a list, a tuple, and a dictionary, and print them all"
      ],
      "metadata": {
        "id": "xIpIH4qKQn73"
      },
      "execution_count": null,
      "outputs": []
    },
    {
      "cell_type": "code",
      "source": [
        "#create a list\n",
        "my_list=[1,2,3,\"payal\"]\n",
        "#create a tuple\n",
        "my_tuple=(1,2,3,\"payal\",\"cherry\")\n",
        "#create a dictionary\n",
        "my_dict={'name':'payal','age':29,'city':'vadodara'}\n",
        "#print all\n",
        "print(my_list)\n",
        "print(my_tuple)\n",
        "print(my_dict)\n"
      ],
      "metadata": {
        "colab": {
          "base_uri": "https://localhost:8080/"
        },
        "id": "bFLmYryHQn4y",
        "outputId": "396a2d38-a1ef-4621-a310-7e9383eecb16"
      },
      "execution_count": 4,
      "outputs": [
        {
          "output_type": "stream",
          "name": "stdout",
          "text": [
            "[1, 2, 3, 'payal']\n",
            "(1, 2, 3, 'payal', 'cherry')\n",
            "{'name': 'payal', 'age': 29, 'city': 'vadodara'}\n"
          ]
        }
      ]
    },
    {
      "cell_type": "code",
      "source": [
        "#27.Write a code to create a list of 5 random numbers between 1 and 100, sort it\n",
        "in ascending order, and print theresult.(replaced)"
      ],
      "metadata": {
        "id": "JskE-b90Qn1X"
      },
      "execution_count": null,
      "outputs": []
    },
    {
      "cell_type": "code",
      "source": [
        "import random\n",
        "random_numbers = [random.randint(1,100) for _ in range(5)]\n",
        "random_numbers.sort()\n",
        "print(random_numbers)"
      ],
      "metadata": {
        "colab": {
          "base_uri": "https://localhost:8080/"
        },
        "id": "JeczoG-_Qnyr",
        "outputId": "97e99821-b75c-4ad4-98d4-964779903ba1"
      },
      "execution_count": 5,
      "outputs": [
        {
          "output_type": "stream",
          "name": "stdout",
          "text": [
            "[3, 59, 77, 81, 87]\n"
          ]
        }
      ]
    },
    {
      "cell_type": "code",
      "source": [
        "#28.Write a code to create a list with strings and print the element at the\n",
        "third index"
      ],
      "metadata": {
        "id": "vaq4gXs0VDz1"
      },
      "execution_count": null,
      "outputs": []
    },
    {
      "cell_type": "code",
      "source": [
        "my_list=['apple','banana','cherry','date','elderberry']\n",
        "print(my_list[3])"
      ],
      "metadata": {
        "colab": {
          "base_uri": "https://localhost:8080/"
        },
        "id": "5SAbPPX7VDnX",
        "outputId": "d76724e9-94fc-4dde-8fff-15a83b9eee39"
      },
      "execution_count": 7,
      "outputs": [
        {
          "output_type": "stream",
          "name": "stdout",
          "text": [
            "date\n"
          ]
        }
      ]
    },
    {
      "cell_type": "code",
      "source": [
        "#29.Write a code to combine two dictionaries into one and print the result.\n",
        "\n"
      ],
      "metadata": {
        "id": "bpvAdi6DVDW-"
      },
      "execution_count": null,
      "outputs": []
    },
    {
      "cell_type": "code",
      "source": [
        "dict1 = {'a':3,'b':4}\n",
        "dict2 = {'c':5,'d':6}\n",
        "dict3 = {**dict1,**dict2}\n",
        "print(dict3)"
      ],
      "metadata": {
        "colab": {
          "base_uri": "https://localhost:8080/"
        },
        "id": "UZYYXzYDVm80",
        "outputId": "f9c61eb7-41e8-4209-b206-d9396201c309"
      },
      "execution_count": 8,
      "outputs": [
        {
          "output_type": "stream",
          "name": "stdout",
          "text": [
            "{'a': 3, 'b': 4, 'c': 5, 'd': 6}\n"
          ]
        }
      ]
    },
    {
      "cell_type": "code",
      "source": [
        "#30.Write a code to convert a list of strings into a set."
      ],
      "metadata": {
        "id": "JDUrjXKlVC2K"
      },
      "execution_count": null,
      "outputs": []
    },
    {
      "cell_type": "code",
      "source": [
        "my_list=['apple','banana','cherry','apple']\n",
        "my_set=set(my_list)\n",
        "print(my_set)"
      ],
      "metadata": {
        "id": "nZDebDZ88e2B",
        "colab": {
          "base_uri": "https://localhost:8080/"
        },
        "outputId": "7e510ae8-2525-4aaa-e52c-c47b4e0605d4"
      },
      "execution_count": 9,
      "outputs": [
        {
          "output_type": "stream",
          "name": "stdout",
          "text": [
            "{'banana', 'cherry', 'apple'}\n"
          ]
        }
      ]
    }
  ]
}