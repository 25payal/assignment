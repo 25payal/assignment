{
  "nbformat": 4,
  "nbformat_minor": 0,
  "metadata": {
    "colab": {
      "provenance": []
    },
    "kernelspec": {
      "name": "python3",
      "display_name": "Python 3"
    },
    "language_info": {
      "name": "python"
    }
  },
  "cells": [
    {
      "cell_type": "markdown",
      "source": [
        "# **Functions**"
      ],
      "metadata": {
        "id": "fI4zP56-TfZE"
      }
    },
    {
      "cell_type": "markdown",
      "source": [
        " 1.What is the difference between a function and a method in Python?\n",
        " * A function doesn't need any object and is independent,\n",
        " while the method is a function, which linked with any object.\n",
        " * We can directly call the function with its name, while the method is called by the object's name.\n",
        " * In functions,we don't need to declare the class,while to use methods we need to declare the class\n",
        " * Functions can only work with the provided data,while methods can access all the data provided in the given class.\n",
        "\n",
        "\n"
      ],
      "metadata": {
        "id": "dxbCjbqfTxk2"
      }
    },
    {
      "cell_type": "code",
      "source": [
        "# functin example"
      ],
      "metadata": {
        "id": "SOol_C31TapS"
      },
      "execution_count": null,
      "outputs": []
    },
    {
      "cell_type": "code",
      "source": [
        "def greet(name):\n",
        "  return f\"Hello,{name}!\"\n",
        "print(greet(\"pearl\"))"
      ],
      "metadata": {
        "colab": {
          "base_uri": "https://localhost:8080/"
        },
        "id": "mVdXaIBEYaes",
        "outputId": "dc0ef59b-a037-4750-b9e7-1f836e43624a"
      },
      "execution_count": null,
      "outputs": [
        {
          "output_type": "stream",
          "name": "stdout",
          "text": [
            "Hello,pearl!\n"
          ]
        }
      ]
    },
    {
      "cell_type": "code",
      "source": [
        "# method example"
      ],
      "metadata": {
        "id": "d-RaLwukYaNb"
      },
      "execution_count": null,
      "outputs": []
    },
    {
      "cell_type": "code",
      "source": [
        "class Person:\n",
        "  def __init__(self,name):\n",
        "    self.name=name\n",
        "  def greet(self):\n",
        "    return f\"Hello,{self.name}!\"\n",
        "person=Person(\"pearl\")\n",
        "print(person.greet())"
      ],
      "metadata": {
        "colab": {
          "base_uri": "https://localhost:8080/"
        },
        "id": "fbLM5sriaSLk",
        "outputId": "6e84efdf-f0f8-4357-d3e1-18bd7a51ee10"
      },
      "execution_count": null,
      "outputs": [
        {
          "output_type": "stream",
          "name": "stdout",
          "text": [
            "Hello,pearl!\n"
          ]
        }
      ]
    },
    {
      "cell_type": "markdown",
      "source": [
        "2. Explain the concept of function arguments and parameters in Python\n",
        "* Arguments: An argument is a value that passed to a function when it is called.It might be a variable,value or object passed to a function or method input.\n",
        "* Parameters: A parameter is the variable defined within the parenthses when we declare a finction."
      ],
      "metadata": {
        "id": "yDh-uukvazcq"
      }
    },
    {
      "cell_type": "code",
      "source": [
        "def add(x,y): # x and y are parameters\n",
        "  return x+y\n",
        "result=add(3,5) #5 and 3 are arguments\n",
        "print(result)\n"
      ],
      "metadata": {
        "colab": {
          "base_uri": "https://localhost:8080/"
        },
        "id": "_IUshikziYF3",
        "outputId": "f811cfaf-687d-442a-9449-1733f3fda13a"
      },
      "execution_count": null,
      "outputs": [
        {
          "output_type": "stream",
          "name": "stdout",
          "text": [
            "8\n"
          ]
        }
      ]
    },
    {
      "cell_type": "markdown",
      "source": [
        "3.What are the different ways to define and call a function in Python?\n",
        "* In python, functions can be defined and called in several ways:\n",
        "* Regular function definition\n",
        "* Default arguments\n",
        "* Keyword arguments\n",
        "* Variable-length arguments\n",
        "* Lambda(Anonymous) function\n"
      ],
      "metadata": {
        "id": "V6-Y7U7Cm4AE"
      }
    },
    {
      "cell_type": "code",
      "source": [
        "#keyword argument"
      ],
      "metadata": {
        "id": "nRxesfPom3Gm"
      },
      "execution_count": null,
      "outputs": []
    },
    {
      "cell_type": "code",
      "source": [
        "def greet(name,message):\n",
        "  return f\"{message},{name}!\"\n",
        "result=greet(message=\"Hello\",name=\"pearl\")\n",
        "print(result)"
      ],
      "metadata": {
        "colab": {
          "base_uri": "https://localhost:8080/"
        },
        "id": "Mwnh5ZWOiXVf",
        "outputId": "04cb1edc-0f4c-48ac-88de-bcfe7dbad1c5"
      },
      "execution_count": null,
      "outputs": [
        {
          "output_type": "stream",
          "name": "stdout",
          "text": [
            "Hello,pearl!\n"
          ]
        }
      ]
    },
    {
      "cell_type": "markdown",
      "source": [
        "4.What is the purpose of the `return` statement in a Python function?\n",
        "* The return statment marks the end of a function and specifies the value or values to pass back from the function.\n",
        "* returnvstatment can return data of any type,including intergers,floats,strings,lists,dictionaries,and even other functions."
      ],
      "metadata": {
        "id": "Uc5yeyHsv8op"
      }
    },
    {
      "cell_type": "code",
      "source": [
        "#example"
      ],
      "metadata": {
        "id": "zdA6pbzAbPXe"
      },
      "execution_count": null,
      "outputs": []
    },
    {
      "cell_type": "code",
      "source": [
        "def add(x,y):\n",
        "  return x+y\n",
        "result=add(4,6)\n",
        "print(result)"
      ],
      "metadata": {
        "colab": {
          "base_uri": "https://localhost:8080/"
        },
        "id": "hpFh5Is5bUvC",
        "outputId": "f6c87f91-3efc-4752-b5fe-dfbdc96620fe"
      },
      "execution_count": null,
      "outputs": [
        {
          "output_type": "stream",
          "name": "stdout",
          "text": [
            "10\n"
          ]
        }
      ]
    },
    {
      "cell_type": "markdown",
      "source": [
        "5.What are iterators in Python and how do they differ from iterables?\n",
        "* Iterators control loops,allowing you to traverse arbitary data containers one item at a time. Iterables,on the other hand,provide the data that you want to iterate over."
      ],
      "metadata": {
        "id": "TR0PNXQBwCOm"
      }
    },
    {
      "cell_type": "code",
      "source": [
        "#list of cities\n",
        "cities = [\"Berlin\", \"vienna\", \"Zurich\"]\n",
        "\n",
        "#initiatize the object\n",
        "iterator_obj = iter(cities)\n",
        "\n",
        "print(next(iterator_obj))\n",
        "print(next(iterator_obj))\n",
        "print(next(iterator_obj))"
      ],
      "metadata": {
        "id": "r7xZfXUxaSR3",
        "colab": {
          "base_uri": "https://localhost:8080/"
        },
        "outputId": "4347f573-7022-4f9d-bc28-dcb419d5e238"
      },
      "execution_count": null,
      "outputs": [
        {
          "output_type": "stream",
          "name": "stdout",
          "text": [
            "Berlin\n",
            "vienna\n",
            "Zurich\n"
          ]
        }
      ]
    },
    {
      "cell_type": "markdown",
      "source": [
        " 6.Explain the concept of generators in Python and how they are defined.\n",
        " * In python,generators are a type of iterator that allows you to produce a sequence of values on-the-fly,without storing the entire sequence in memory at once.They are defined using functions that include the yield keyword instead of return."
      ],
      "metadata": {
        "id": "-qjdKWBCe4md"
      }
    },
    {
      "cell_type": "code",
      "source": [
        "#example"
      ],
      "metadata": {
        "id": "aqaP41D5hVvh"
      },
      "execution_count": null,
      "outputs": []
    },
    {
      "cell_type": "code",
      "source": [
        "def my_generator():\n",
        "  value = 0\n",
        "  while value < 5:\n",
        "    yield value\n",
        "    value += 1\n",
        "gen = my_generator()\n",
        "for num in gen:\n",
        "  print(num)"
      ],
      "metadata": {
        "id": "aQrhAksxhWGp",
        "colab": {
          "base_uri": "https://localhost:8080/"
        },
        "outputId": "53d3f927-5e6e-40a0-82a6-5f9ff70c43e7"
      },
      "execution_count": null,
      "outputs": [
        {
          "output_type": "stream",
          "name": "stdout",
          "text": [
            "0\n",
            "1\n",
            "2\n",
            "3\n",
            "4\n"
          ]
        }
      ]
    },
    {
      "cell_type": "markdown",
      "source": [
        " 7.What are the advantages of using generators over regular functions?\n",
        " * generators offer several advantages over regular function, particularly when working with large data sets or when you need to manage memmory efficiently."
      ],
      "metadata": {
        "id": "rspKAtrLhLnj"
      }
    },
    {
      "cell_type": "code",
      "source": [
        "#comparison example between generators and regular"
      ],
      "metadata": {
        "id": "dzT1-5XBhYc7"
      },
      "execution_count": null,
      "outputs": []
    },
    {
      "cell_type": "code",
      "source": [
        "#regular function\n",
        "\n",
        "def get_numbers():\n",
        "  return [1,2,3,4,5]\n",
        "  for num in get_numbers():\n",
        "    print(num)"
      ],
      "metadata": {
        "id": "wsig-wNjaSXw"
      },
      "execution_count": null,
      "outputs": []
    },
    {
      "cell_type": "code",
      "source": [
        "#generator function\n",
        "\n",
        "def get_numbers():\n",
        "  for i in range(1,6):\n",
        "    yield i\n",
        "    for num in get_numbers():\n",
        "      print(num)\n"
      ],
      "metadata": {
        "id": "k8R3TjlMkMXR"
      },
      "execution_count": null,
      "outputs": []
    },
    {
      "cell_type": "markdown",
      "source": [
        "8.What is a lambda function in Python and when is it typically used?\n",
        "* Lambda function in python is a small,anonumous function defined with the lambda keyword. It can take any number of arguments but only expression.\n",
        "* Typically uses when you need a short function for a short time,used with functions like map(),filter(),and sorted()."
      ],
      "metadata": {
        "id": "yw2XRM9qkqqM"
      }
    },
    {
      "cell_type": "code",
      "source": [
        "#example\n",
        "\n",
        "pairs = [(1, 'one'), (2, 'two'), (3, 'three'), (4, 'four')]\n",
        "sorted_pairs = sorted(pairs, key=lambda x: x[1])\n",
        "print(sorted_pairs)"
      ],
      "metadata": {
        "colab": {
          "base_uri": "https://localhost:8080/"
        },
        "id": "JlD2iURHmAj-",
        "outputId": "cc948399-56da-470d-9875-360ac4f883fa"
      },
      "execution_count": null,
      "outputs": [
        {
          "output_type": "stream",
          "name": "stdout",
          "text": [
            "[(4, 'four'), (1, 'one'), (3, 'three'), (2, 'two')]\n"
          ]
        }
      ]
    },
    {
      "cell_type": "markdown",
      "source": [
        "9.Explain the purpose and usage of the `map()` function in Python.\n",
        "* Purpose: To tranform data by applying a function to every item in a collection,without writing loop.\n",
        "* Usage:When you want to tranform data without using explicit loops. When you want cleaner,shorter code,especially with simple functions.When working with large data,since it's memory-efficient.\n"
      ],
      "metadata": {
        "id": "LAgDkL1WmYKG"
      }
    },
    {
      "cell_type": "code",
      "source": [
        "#example\n",
        "\n",
        "numbers = [1,2,3]\n",
        "doubled = map(lambda x: x*2,numbers)\n",
        "print(list(doubled))"
      ],
      "metadata": {
        "colab": {
          "base_uri": "https://localhost:8080/"
        },
        "id": "hJCd_UXLn7n-",
        "outputId": "96c1a9be-c328-467a-caeb-734512110686"
      },
      "execution_count": null,
      "outputs": [
        {
          "output_type": "stream",
          "name": "stdout",
          "text": [
            "[2, 4, 6]\n"
          ]
        }
      ]
    },
    {
      "cell_type": "markdown",
      "source": [
        "10. What is the difference between `map()`, `reduce()`, and `filter()` functions in Python?\n",
        "* function map(): prupose is transforms each item in a sequence\n",
        "* Input: function + iterable\n",
        "* Output: New iterable with transformed items.\n",
        "* Use **mao()** to transform data.\n",
        "\n",
        "* reduce(): Purpose is reduces a sequence to a single value\n",
        "* Input: Function(2 args) + iterable\n",
        "* Output: Single value\n",
        "* Use**reduce()** to combine data into one result\n",
        "\n",
        "* Filter(): Purpose is filters items based on a condition\n",
        "* Input: Function (returns bool) + iterable\n",
        "* Output: New iterable with items that passed the condition\n",
        "* Use**filter()** to select data\n",
        "\n"
      ],
      "metadata": {
        "id": "6du2hHGros5x"
      }
    },
    {
      "cell_type": "code",
      "source": [
        "#exaple map()\n",
        "nums = [1,2,3,4,5]\n",
        "result = map(lambda x: x*2,nums)\n",
        "print(list(result))"
      ],
      "metadata": {
        "colab": {
          "base_uri": "https://localhost:8080/"
        },
        "id": "gBaqSfJsmAUt",
        "outputId": "296ad9af-dea0-4461-95e5-aab94de772c0"
      },
      "execution_count": null,
      "outputs": [
        {
          "output_type": "stream",
          "name": "stdout",
          "text": [
            "[2, 4, 6, 8, 10]\n"
          ]
        }
      ]
    },
    {
      "cell_type": "code",
      "source": [
        "#example reduce()\n",
        "from functools import reduce\n",
        "nums = [1,2,3,4,5]\n",
        "result = reduce(lambda x,y: x+y,nums)\n",
        "print(result)"
      ],
      "metadata": {
        "colab": {
          "base_uri": "https://localhost:8080/"
        },
        "id": "dJc0RPzil_Ew",
        "outputId": "b96c407b-c00d-44eb-a0dc-e3a51f13f190"
      },
      "execution_count": null,
      "outputs": [
        {
          "output_type": "stream",
          "name": "stdout",
          "text": [
            "15\n"
          ]
        }
      ]
    },
    {
      "cell_type": "code",
      "source": [
        "#example filter()\n",
        "nums = [1,2,3,4,5]\n",
        "result = filter(lambda x: x%2==0,nums)\n",
        "print(list(result))"
      ],
      "metadata": {
        "colab": {
          "base_uri": "https://localhost:8080/"
        },
        "id": "DZE_xX9XkL7g",
        "outputId": "56c411c4-48b3-484b-f5c4-6ec88a828f40"
      },
      "execution_count": null,
      "outputs": [
        {
          "output_type": "stream",
          "name": "stdout",
          "text": [
            "[2, 4]\n"
          ]
        }
      ]
    },
    {
      "cell_type": "markdown",
      "source": [
        "11. Using pen & Paper write the internal mechanism for sum operation using  reduce function on this given\n",
        "list:[47,11,42,13];"
      ],
      "metadata": {
        "id": "G-msu_C3sZP1"
      }
    },
    {
      "cell_type": "code",
      "source": [],
      "metadata": {
        "id": "Pw0aI0E_kLb7"
      },
      "execution_count": null,
      "outputs": []
    },
    {
      "cell_type": "markdown",
      "source": [
        "## Practicle **questions**"
      ],
      "metadata": {
        "id": "5Wdv1eyHTefP"
      }
    },
    {
      "cell_type": "code",
      "execution_count": null,
      "metadata": {
        "id": "FJZgVTcUTYHq"
      },
      "outputs": [],
      "source": [
        "1. Write a Python function that takes a list of numbers as input and returns the\n",
        "sum of all even numbers in the list."
      ]
    },
    {
      "cell_type": "code",
      "source": [
        "def sum_of_events(numbers):\n",
        "  \"\"\"\n",
        "    calculate the sum of even numbers in a list.\n",
        "\n",
        "  Args;\n",
        "   numbers: A list of numbers.\n",
        "\n",
        "  Returns;\n",
        "   The sum of even numbers in the list.\n",
        "  \"\"\"\n",
        "  even_sum = 0\n",
        "  for number in numbers:\n",
        "    if number % 2 == 0:\n",
        "      even_sum += number\n",
        "  return even_sum\n",
        "numbers = [1,2,3,4,5,6,7,8,9,10]\n",
        "print(sum_of_events(numbers))"
      ],
      "metadata": {
        "id": "rQUSkVCnTal7",
        "colab": {
          "base_uri": "https://localhost:8080/"
        },
        "outputId": "cfafc433-f4b9-4845-fac6-dc0d1664b3df"
      },
      "execution_count": null,
      "outputs": [
        {
          "output_type": "stream",
          "name": "stdout",
          "text": [
            "30\n"
          ]
        }
      ]
    },
    {
      "cell_type": "code",
      "source": [
        "2.Create a Python function that accepts a string and returns the\n",
        "reverse of that string"
      ],
      "metadata": {
        "id": "QI87UdKnuiQn"
      },
      "execution_count": null,
      "outputs": []
    },
    {
      "cell_type": "code",
      "source": [
        "txt = \"Hello world\"[::-1]\n",
        "print(txt)"
      ],
      "metadata": {
        "colab": {
          "base_uri": "https://localhost:8080/"
        },
        "id": "nKXqo9K8uh9p",
        "outputId": "4b64a7fa-62b5-44f2-ed1a-cc1a52699663"
      },
      "execution_count": null,
      "outputs": [
        {
          "output_type": "stream",
          "name": "stdout",
          "text": [
            "dlrow olleH\n"
          ]
        }
      ]
    },
    {
      "cell_type": "code",
      "source": [
        "3. Implement a Python function that takes a list of integers and returns\n",
        "a new list containing the squares ofeach number."
      ],
      "metadata": {
        "id": "lEz1m5U7uhn-"
      },
      "execution_count": null,
      "outputs": []
    },
    {
      "cell_type": "code",
      "source": [
        "def square_numbers(numbers):\n",
        "  \"\"\"\n",
        "    This function takes a list of integers and returnd a new list containing the\n",
        "    squares of each number.\n",
        "  \"\"\"\n",
        "  square = [num**2 for num in numbers]\n",
        "  return square\n",
        "numbers = [1,2,3,4,5]\n",
        "square_numbers = square_numbers(numbers)\n",
        "print(square_numbers)"
      ],
      "metadata": {
        "colab": {
          "base_uri": "https://localhost:8080/"
        },
        "id": "rciVFtXeuhBM",
        "outputId": "6a5c3009-f95b-43ce-bb5b-22a1b88c210e"
      },
      "execution_count": null,
      "outputs": [
        {
          "output_type": "stream",
          "name": "stdout",
          "text": [
            "[1, 4, 9, 16, 25]\n"
          ]
        }
      ]
    },
    {
      "cell_type": "code",
      "source": [
        "4.Write a Python function that checks if a given number is prime or not\n",
        "from 1 to 200."
      ],
      "metadata": {
        "id": "nx-L9RCDyeEJ"
      },
      "execution_count": null,
      "outputs": []
    },
    {
      "cell_type": "code",
      "source": [
        "import math\n",
        "\n",
        "def is_prime(n):\n",
        "    if n <= 1:\n",
        "        return False\n",
        "    if n == 2:\n",
        "        return True\n",
        "    if n > 2 and n % 2 == 0:\n",
        "        return False\n",
        "\n",
        "    max_divisor = math.floor(math.sqrt(n))\n",
        "    for i in range(3, max_divisor + 1, 2):\n",
        "        if n % i == 0:\n",
        "            return False\n",
        "    return True\n",
        "\n",
        "# Test cases\n",
        "for i in range(1, 201):\n",
        "    if is_prime(i):\n",
        "        print(f\"{i} is prime\")\n",
        "    else:\n",
        "        print(f\"{i} is not prime\")"
      ],
      "metadata": {
        "id": "xAkhxrrGyeCK",
        "colab": {
          "base_uri": "https://localhost:8080/"
        },
        "outputId": "5668e2c4-e410-41fc-fa18-cdef811e3b62"
      },
      "execution_count": null,
      "outputs": [
        {
          "output_type": "stream",
          "name": "stdout",
          "text": [
            "1 is not prime\n",
            "2 is prime\n",
            "3 is prime\n",
            "4 is not prime\n",
            "5 is prime\n",
            "6 is not prime\n",
            "7 is prime\n",
            "8 is not prime\n",
            "9 is not prime\n",
            "10 is not prime\n",
            "11 is prime\n",
            "12 is not prime\n",
            "13 is prime\n",
            "14 is not prime\n",
            "15 is not prime\n",
            "16 is not prime\n",
            "17 is prime\n",
            "18 is not prime\n",
            "19 is prime\n",
            "20 is not prime\n",
            "21 is not prime\n",
            "22 is not prime\n",
            "23 is prime\n",
            "24 is not prime\n",
            "25 is not prime\n",
            "26 is not prime\n",
            "27 is not prime\n",
            "28 is not prime\n",
            "29 is prime\n",
            "30 is not prime\n",
            "31 is prime\n",
            "32 is not prime\n",
            "33 is not prime\n",
            "34 is not prime\n",
            "35 is not prime\n",
            "36 is not prime\n",
            "37 is prime\n",
            "38 is not prime\n",
            "39 is not prime\n",
            "40 is not prime\n",
            "41 is prime\n",
            "42 is not prime\n",
            "43 is prime\n",
            "44 is not prime\n",
            "45 is not prime\n",
            "46 is not prime\n",
            "47 is prime\n",
            "48 is not prime\n",
            "49 is not prime\n",
            "50 is not prime\n",
            "51 is not prime\n",
            "52 is not prime\n",
            "53 is prime\n",
            "54 is not prime\n",
            "55 is not prime\n",
            "56 is not prime\n",
            "57 is not prime\n",
            "58 is not prime\n",
            "59 is prime\n",
            "60 is not prime\n",
            "61 is prime\n",
            "62 is not prime\n",
            "63 is not prime\n",
            "64 is not prime\n",
            "65 is not prime\n",
            "66 is not prime\n",
            "67 is prime\n",
            "68 is not prime\n",
            "69 is not prime\n",
            "70 is not prime\n",
            "71 is prime\n",
            "72 is not prime\n",
            "73 is prime\n",
            "74 is not prime\n",
            "75 is not prime\n",
            "76 is not prime\n",
            "77 is not prime\n",
            "78 is not prime\n",
            "79 is prime\n",
            "80 is not prime\n",
            "81 is not prime\n",
            "82 is not prime\n",
            "83 is prime\n",
            "84 is not prime\n",
            "85 is not prime\n",
            "86 is not prime\n",
            "87 is not prime\n",
            "88 is not prime\n",
            "89 is prime\n",
            "90 is not prime\n",
            "91 is not prime\n",
            "92 is not prime\n",
            "93 is not prime\n",
            "94 is not prime\n",
            "95 is not prime\n",
            "96 is not prime\n",
            "97 is prime\n",
            "98 is not prime\n",
            "99 is not prime\n",
            "100 is not prime\n",
            "101 is prime\n",
            "102 is not prime\n",
            "103 is prime\n",
            "104 is not prime\n",
            "105 is not prime\n",
            "106 is not prime\n",
            "107 is prime\n",
            "108 is not prime\n",
            "109 is prime\n",
            "110 is not prime\n",
            "111 is not prime\n",
            "112 is not prime\n",
            "113 is prime\n",
            "114 is not prime\n",
            "115 is not prime\n",
            "116 is not prime\n",
            "117 is not prime\n",
            "118 is not prime\n",
            "119 is not prime\n",
            "120 is not prime\n",
            "121 is not prime\n",
            "122 is not prime\n",
            "123 is not prime\n",
            "124 is not prime\n",
            "125 is not prime\n",
            "126 is not prime\n",
            "127 is prime\n",
            "128 is not prime\n",
            "129 is not prime\n",
            "130 is not prime\n",
            "131 is prime\n",
            "132 is not prime\n",
            "133 is not prime\n",
            "134 is not prime\n",
            "135 is not prime\n",
            "136 is not prime\n",
            "137 is prime\n",
            "138 is not prime\n",
            "139 is prime\n",
            "140 is not prime\n",
            "141 is not prime\n",
            "142 is not prime\n",
            "143 is not prime\n",
            "144 is not prime\n",
            "145 is not prime\n",
            "146 is not prime\n",
            "147 is not prime\n",
            "148 is not prime\n",
            "149 is prime\n",
            "150 is not prime\n",
            "151 is prime\n",
            "152 is not prime\n",
            "153 is not prime\n",
            "154 is not prime\n",
            "155 is not prime\n",
            "156 is not prime\n",
            "157 is prime\n",
            "158 is not prime\n",
            "159 is not prime\n",
            "160 is not prime\n",
            "161 is not prime\n",
            "162 is not prime\n",
            "163 is prime\n",
            "164 is not prime\n",
            "165 is not prime\n",
            "166 is not prime\n",
            "167 is prime\n",
            "168 is not prime\n",
            "169 is not prime\n",
            "170 is not prime\n",
            "171 is not prime\n",
            "172 is not prime\n",
            "173 is prime\n",
            "174 is not prime\n",
            "175 is not prime\n",
            "176 is not prime\n",
            "177 is not prime\n",
            "178 is not prime\n",
            "179 is prime\n",
            "180 is not prime\n",
            "181 is prime\n",
            "182 is not prime\n",
            "183 is not prime\n",
            "184 is not prime\n",
            "185 is not prime\n",
            "186 is not prime\n",
            "187 is not prime\n",
            "188 is not prime\n",
            "189 is not prime\n",
            "190 is not prime\n",
            "191 is prime\n",
            "192 is not prime\n",
            "193 is prime\n",
            "194 is not prime\n",
            "195 is not prime\n",
            "196 is not prime\n",
            "197 is prime\n",
            "198 is not prime\n",
            "199 is prime\n",
            "200 is not prime\n"
          ]
        }
      ]
    },
    {
      "cell_type": "code",
      "source": [
        "5. Create an iterator class in Python that generates the Fibonacci sequence up\n",
        "to a specified number of terms."
      ],
      "metadata": {
        "id": "5etpWF3Fyd_3"
      },
      "execution_count": null,
      "outputs": []
    },
    {
      "cell_type": "code",
      "source": [
        "#defining function to return list of fibonacci elements\n",
        "def fibonacci(n):\n",
        "\n",
        "    l = [0,1]\n",
        "    for i in range(2,n):\n",
        "        l.append(l[-1]+l[-2])\n",
        "    return l\n",
        "\n",
        "#Main function\n",
        "if __name__ == \"__main__\":\n",
        "   #defining the total number of elements\n",
        "    n = 10\n",
        "\n",
        "    #calling of function\n",
        "    fibo = fibonacci(n)\n",
        "\n",
        "    #displaying the function\n",
        "    print(\"Fibonacci Series: \",*fibo)"
      ],
      "metadata": {
        "id": "uaLQ70UPyd89",
        "colab": {
          "base_uri": "https://localhost:8080/"
        },
        "outputId": "c46d2ad1-56cf-4271-ca15-931ecd869742"
      },
      "execution_count": null,
      "outputs": [
        {
          "output_type": "stream",
          "name": "stdout",
          "text": [
            "Fibonacci Series:  0 1 1 2 3 5 8 13 21 34\n"
          ]
        }
      ]
    },
    {
      "cell_type": "code",
      "source": [
        "6.Write a generator function in Python that yields the powers of 2 up to\n",
        "a given exponent."
      ],
      "metadata": {
        "id": "x_36cLrnyd46"
      },
      "execution_count": null,
      "outputs": []
    },
    {
      "cell_type": "code",
      "source": [
        "def fun(max):\n",
        "    cnt = 1\n",
        "    while cnt <= max:\n",
        "        yield cnt\n",
        "        cnt += 1\n",
        "\n",
        "ctr = fun(5)\n",
        "for n in ctr:\n",
        "    print(n)"
      ],
      "metadata": {
        "id": "Pq_oza6Lyd2s",
        "colab": {
          "base_uri": "https://localhost:8080/"
        },
        "outputId": "c028bd9b-111c-4441-a213-2d56103caa5e"
      },
      "execution_count": null,
      "outputs": [
        {
          "output_type": "stream",
          "name": "stdout",
          "text": [
            "1\n",
            "2\n",
            "3\n",
            "4\n",
            "5\n"
          ]
        }
      ]
    },
    {
      "cell_type": "code",
      "source": [
        "7. Implement a generator function that reads a file line by line and yields\n",
        "each line as a strin"
      ],
      "metadata": {
        "id": "BxgHjLRsyd0D"
      },
      "execution_count": null,
      "outputs": []
    },
    {
      "cell_type": "code",
      "source": [
        "def line_reader(filepath):\n",
        "    \"\"\"\n",
        "    A generator function that reads a file line by line and yields each line as\n",
        "    a string.\n",
        "    \"\"\"\n",
        "    with open(filepath, 'r') as file:\n",
        "        for line in file:\n",
        "            yield line.strip() #remove leading/trailing whitespace\n"
      ],
      "metadata": {
        "id": "7FdzYzjp0vRj"
      },
      "execution_count": null,
      "outputs": []
    },
    {
      "cell_type": "code",
      "source": [
        " 8.Use a lambda function in Python to sort a list of tuples based on the\n",
        " second element of each tuple."
      ],
      "metadata": {
        "id": "Y5Wiyjc50wVe"
      },
      "execution_count": null,
      "outputs": []
    },
    {
      "cell_type": "code",
      "source": [
        "# Input list of tuples\n",
        "a = [(1, 'Python'), (2, 'with'), (3, 'GFG')]\n",
        "\n",
        "# Define the specific order\n",
        "order = ['with', 'Python', 'GFG']\n",
        "\n",
        "# Sort the list of tuples based on the specific order\n",
        "res = sorted(a, key=lambda x: order.index(x[1]))\n",
        "print(res)\n"
      ],
      "metadata": {
        "colab": {
          "base_uri": "https://localhost:8080/"
        },
        "id": "Wr5UpD4G0wIR",
        "outputId": "5bcd7ddb-0ce7-49ac-f068-c0f860bc6cd7"
      },
      "execution_count": null,
      "outputs": [
        {
          "output_type": "stream",
          "name": "stdout",
          "text": [
            "[(2, 'with'), (1, 'Python'), (3, 'GFG')]\n"
          ]
        }
      ]
    },
    {
      "cell_type": "code",
      "source": [
        "9. Write a Python program that uses `map()` to convert a list of temperatures\n",
        "from Celsius to Fahrenheit."
      ],
      "metadata": {
        "id": "_k2vDTDa0v5F"
      },
      "execution_count": null,
      "outputs": []
    },
    {
      "cell_type": "code",
      "source": [
        "c = 45\n",
        "\n",
        "# Converting the temperature to Fahrenheit using the formula\n",
        "f = (c * 1.8) + 32\n",
        "\n",
        "print(str(c))\n",
        "print(str(f))"
      ],
      "metadata": {
        "colab": {
          "base_uri": "https://localhost:8080/"
        },
        "id": "hvt4Po8H1-mY",
        "outputId": "b67097bc-9e68-4725-dcbf-742d7d87580b"
      },
      "execution_count": null,
      "outputs": [
        {
          "output_type": "stream",
          "name": "stdout",
          "text": [
            "45\n",
            "113.0\n"
          ]
        }
      ]
    },
    {
      "cell_type": "code",
      "source": [
        "10. Create a Python program that uses `filter()` to remove all the vowels from\n",
        "a given string."
      ],
      "metadata": {
        "id": "Y-POGja01-Lm"
      },
      "execution_count": null,
      "outputs": []
    },
    {
      "cell_type": "code",
      "source": [
        "# Python program to remove vowels from a string\n",
        "# Function to remove vowels\n",
        "def rem_vowel(string):\n",
        "\tvowels = ['a','e','i','o','u']\n",
        "\tresult = [letter for letter in string if letter.lower() not in vowels]\n",
        "\tresult = ''.join(result)\n",
        "\tprint(result)\n",
        "\n",
        "# Driver program\n",
        "string = \"GeeksforGeeks - A Computer Science Portal for Geeks\"\n",
        "rem_vowel(string)\n",
        "string = \"Loving Python LOL\"\n",
        "rem_vowel(string)\n"
      ],
      "metadata": {
        "colab": {
          "base_uri": "https://localhost:8080/"
        },
        "id": "a-IbOEq52fjq",
        "outputId": "461366bb-261a-4312-fd9f-f6cedd9d91dd"
      },
      "execution_count": null,
      "outputs": [
        {
          "output_type": "stream",
          "name": "stdout",
          "text": [
            "GksfrGks -  Cmptr Scnc Prtl fr Gks\n",
            "Lvng Pythn LL\n"
          ]
        }
      ]
    },
    {
      "cell_type": "code",
      "source": [
        "11) Imagine an accounting routine used in a book shop. It works on a list with\n",
        " sublists, which look like this:"
      ],
      "metadata": {
        "id": "9n_2PGqq2gR3"
      },
      "execution_count": null,
      "outputs": []
    },
    {
      "cell_type": "code",
      "source": [
        "book_list = [\n",
        "    [\"34587\", \"Learning Python, Mark Lute\", 4, 40.95],\n",
        "    [\"98762\", \"Programming Python, Mark Lutz\", 5, 56.00],\n",
        "    [\"77226\", \"Head First Python, Paul Barry\", 1, 32.05],\n",
        "    [\"8112\", \"Einführung in Python, Bernd Klein\", 1, 24.99]\n",
        "]\n",
        "\n",
        "result = list(map(lambda x: (x[0], x[3] * x[2] + 10 if x[3] * x[2] < 100 else x\n",
        " [3] * x[2]), book_list))\n",
        "\n",
        "print(result)\n"
      ],
      "metadata": {
        "colab": {
          "base_uri": "https://localhost:8080/"
        },
        "id": "L-FNJomJ3nt_",
        "outputId": "d195a1ea-3da8-4d83-e181-d138e48f1d87"
      },
      "execution_count": null,
      "outputs": [
        {
          "output_type": "stream",
          "name": "stdout",
          "text": [
            "[('34587', 163.8), ('98762', 280.0), ('77226', 42.05), ('8112', 34.989999999999995)]\n"
          ]
        }
      ]
    }
  ]
}