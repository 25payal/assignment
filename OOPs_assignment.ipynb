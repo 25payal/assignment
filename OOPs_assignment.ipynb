{
  "nbformat": 4,
  "nbformat_minor": 0,
  "metadata": {
    "colab": {
      "provenance": [],
      "authorship_tag": "ABX9TyOlMZfGGWrfZhvTtEoL4wqk",
      "include_colab_link": true
    },
    "kernelspec": {
      "name": "python3",
      "display_name": "Python 3"
    },
    "language_info": {
      "name": "python"
    }
  },
  "cells": [
    {
      "cell_type": "markdown",
      "metadata": {
        "id": "view-in-github",
        "colab_type": "text"
      },
      "source": [
        "<a href=\"https://colab.research.google.com/github/25payal/assignment/blob/main/OOPs_assignment.ipynb\" target=\"_parent\"><img src=\"https://colab.research.google.com/assets/colab-badge.svg\" alt=\"Open In Colab\"/></a>"
      ]
    },
    {
      "cell_type": "markdown",
      "source": [
        "** OOPs Assignment**"
      ],
      "metadata": {
        "id": "TgCd669o6rUu"
      }
    },
    {
      "cell_type": "markdown",
      "source": [
        "1.What is Object-Oriented Programming (OOP)?\n",
        "* Object oriented programming is a programming paradigm based on the concept of\"objects\",which can contain data and code that operate on the data."
      ],
      "metadata": {
        "id": "7bV7mjnl7GNH"
      }
    },
    {
      "cell_type": "markdown",
      "source": [
        "2.What is a class in OOP?\n",
        "* A class is a blueprint or template for creating objects.it defines what data and what functions an object created from class will have."
      ],
      "metadata": {
        "id": "rNPUAEGX-UU6"
      }
    },
    {
      "cell_type": "markdown",
      "source": [
        "3.What is an object in OOP?\n",
        "*  In OOP an object is an instance of a class.It is a real-world entity create using the blueprints defined by the class."
      ],
      "metadata": {
        "id": "PXp6N7Ke7F61"
      }
    },
    {
      "cell_type": "markdown",
      "source": [
        "4.What is the difference between abstraction and encapsulation?\n",
        "*  Abstraction: Hides the complexity and shows only the essential features of an object.\n",
        "* To focus on what an object does,not how it does it.\n",
        "* Encapsulation: Hides the internal state of an object and only allows controlled access via methods\n",
        "* To protect data from unauthorized access and modification."
      ],
      "metadata": {
        "id": "fvG5hAyCB3OU"
      }
    },
    {
      "cell_type": "markdown",
      "source": [
        "5. What are dunder methods in Python?\n",
        "* Dunder methods in python are special built-in methods that start and end with double underscores,like _inti_,_str_,_len_ ect.\n",
        "They are also called magic methods and aloow you to define how objects of your class behave with built-in python operations.\n"
      ],
      "metadata": {
        "id": "_z0YYOvQHI4T"
      }
    },
    {
      "cell_type": "markdown",
      "source": [
        "6.Explain the concept of inheritance in OOP?\n",
        "* Inharitance in object-oriented programming is a mechanism that allows one class to inherit the properties and behaviors of another class.This promotes code resue and establishes a natural hierarchy between classes."
      ],
      "metadata": {
        "id": "viHtolH1JYP5"
      }
    },
    {
      "cell_type": "markdown",
      "source": [
        "7.What is polymorphism in OOP?\n",
        "* Polymorphism in OOP is ability of diffrent objects to respond to the same method or function call in a way that's specific to their own class.The word polymorphism means \"many forms\".\n",
        "\n"
      ],
      "metadata": {
        "id": "_BUA12UvMoon"
      }
    },
    {
      "cell_type": "markdown",
      "source": [
        "8.How is encapsulation achieved in Python?\n",
        "*  Encapsulation in python is achieved by restricting access to certain parts of an object,typically by using access modifiers.It attribute data and methods that operate on the data into a single unit-the class-and controls access to them."
      ],
      "metadata": {
        "id": "GsD72cBNN8tM"
      }
    },
    {
      "cell_type": "markdown",
      "source": [
        "9. What is a constructor in Python?\n",
        "*  In python,a construction is a special method used to initialize objects when a class is created.The constructor method is called _init_()."
      ],
      "metadata": {
        "id": "Bc5kjL0cO8vk"
      }
    },
    {
      "cell_type": "markdown",
      "source": [
        "10.What are class and static methods in Python?\n",
        "*  Class method: Defined using the @classmethod decorator.Takes cls as the first argument,refers to the class not an instance.Can access and modify class state.\n",
        "* Static method: Defined using the @staticmethod decorator.Doesn't take self or cls as a parameter.Used for utility functions that don't access instanceor class data."
      ],
      "metadata": {
        "id": "8sNzJ55xPtxy"
      }
    },
    {
      "cell_type": "markdown",
      "source": [
        "11. What is method overloading in Python?\n",
        "* Python doen not support method overloading like some other languages.In python,you can't create multiple methods with same name but dufferent parameters."
      ],
      "metadata": {
        "id": "qF4fHyE6Q9dr"
      }
    },
    {
      "cell_type": "markdown",
      "source": [
        "12.What is method overriding in OOP?\n",
        "*  Method overriding means creating a method in the child class that has the same name as a method in the parent class.The child version replces or overriding the parent class version when called on a child object."
      ],
      "metadata": {
        "id": "GgUZP29RRyug"
      }
    },
    {
      "cell_type": "markdown",
      "source": [
        "13.What is a property decorator in Python?\n",
        "*  The property decorator in python is used to turn a method into a read-only property.This means you can access a method like an attribute,without using parentheses()."
      ],
      "metadata": {
        "id": "1pvExCtjS3Bf"
      }
    },
    {
      "cell_type": "markdown",
      "source": [
        "14.Why is polymorphism important in OOP?\n",
        "* 1.Code reusability: You can write one function or method that works for diffrent types of objects.\n",
        "* 2.Flexibility:You can add new classes without changing existing code,as long as they follow the same interface or method structure.\n",
        "* 3.Simplified code: You don't need many if or else statements to check object type-python automatically runs the correct method.\n",
        "* 4.Supports extensibility:Makes it easy to expand your program with new bwhaviors.\n"
      ],
      "metadata": {
        "id": "e3WMVNh2TmYJ"
      }
    },
    {
      "cell_type": "markdown",
      "source": [
        "15.What is an abstract class in Python?\n",
        "* An abstract class in python is a class that cannot be directly used to create objects."
      ],
      "metadata": {
        "id": "e2ScBNTIVSqL"
      }
    },
    {
      "cell_type": "markdown",
      "source": [
        "16.What are the advantages of OOP?\n",
        "* OOP makes programming easier,faster,and more organized by letting us build programs using real-world-like objects that we can reuse,extend,and protect."
      ],
      "metadata": {
        "id": "X2GZLp-7VrvD"
      }
    },
    {
      "cell_type": "markdown",
      "source": [
        "17.What is the difference between a class variable and an instance variable?\n",
        "* Class variable = same for every object.\n",
        "* Instance variable = diffrent for each object."
      ],
      "metadata": {
        "id": "NkdQ7sSBWeny"
      }
    },
    {
      "cell_type": "markdown",
      "source": [
        "18.What is multiple inheritance in Python?\n",
        "* Multiple inheritance means a class can inherit fro more than one parent class.This allows the child class to use features from all the parent classes."
      ],
      "metadata": {
        "id": "QGmTgLXNXCxm"
      }
    },
    {
      "cell_type": "markdown",
      "source": [
        "19.Explain the purpose of ‘’__str__’ and ‘__repr__’ ‘ methods in Python?\n",
        "* The purpose is to provide string representation of objects.\n",
        "* _str_ aims to be human-readable represention\n",
        "* _repr_ aims to be unambiguous represention for developers and debugging."
      ],
      "metadata": {
        "id": "dQH7Zb2GXpEW"
      }
    },
    {
      "cell_type": "markdown",
      "source": [
        "20.What is the significance of the ‘super()’ function in Python?\n",
        "*  The significance of the super() function in python lies in its ability to access methods and properties from a parent class within a childclass,primarily in the context of inheritance."
      ],
      "metadata": {
        "id": "iQIeWWvQZaIx"
      }
    },
    {
      "cell_type": "markdown",
      "source": [
        "21.What is the significance of the __del__ method in Python?\n",
        "* The_del_method in python is a special method called a destructor.It is automatically called when an object is deleted or destroyed-usally when it goes out of scope or the program ends."
      ],
      "metadata": {
        "id": "wyiE5MzJaPh2"
      }
    },
    {
      "cell_type": "markdown",
      "source": [
        "22.What is the difference between @staticmethod and @classmethod in Python?\n",
        "* @staticmethod just a regular function inside a class\n",
        "* @classmethod a method that works with the class not with objects."
      ],
      "metadata": {
        "id": "WozPqfrBbS5a"
      }
    },
    {
      "cell_type": "markdown",
      "source": [
        "23.How does polymorphism work in Python with inheritance?\n",
        "* Inharitance defines a common interface:A base class defined a method.Derived classes override the method:subclass provide their own implementation of method."
      ],
      "metadata": {
        "id": "PWQ-cuBPPDfG"
      }
    },
    {
      "cell_type": "markdown",
      "source": [
        "24.What is method chaining in Python OOP?\n",
        "* Method chaining in python OOP is a technique where multiple methos are called on the same object in a single line,one after another."
      ],
      "metadata": {
        "id": "E9HfuCIsP8re"
      }
    },
    {
      "cell_type": "markdown",
      "source": [
        "25.What is the purpose of the __call__ method in Python?\n",
        "*  In python,there is no built-in method officially named_call_method in the standard language or its core data model.However,the name_call_method may appear in certain internal implementations,libraries,or framworks."
      ],
      "metadata": {
        "id": "ZaTqmAS-SCKw"
      }
    },
    {
      "cell_type": "markdown",
      "source": [
        "**Practical** **Questions**"
      ],
      "metadata": {
        "id": "y4DRRcmQTLOC"
      }
    },
    {
      "cell_type": "markdown",
      "source": [
        "1. Create a parent class Animal with a method speak() that prints a generic message. Create a child class Dog\n",
        "that overrides the speak() method to print \"Bark!\"."
      ],
      "metadata": {
        "id": "kYwDj0uVTT53"
      }
    },
    {
      "cell_type": "code",
      "execution_count": 1,
      "metadata": {
        "id": "X5TadUHw6OSR",
        "colab": {
          "base_uri": "https://localhost:8080/"
        },
        "outputId": "40b70497-64b3-4152-ed28-c537473d17f9"
      },
      "outputs": [
        {
          "output_type": "stream",
          "name": "stdout",
          "text": [
            "Generic animal sound\n",
            "Bark!\n"
          ]
        }
      ],
      "source": [
        "class Animal:\n",
        "    def speak(self):\n",
        "        print(\"Generic animal sound\")\n",
        "\n",
        "class Dog(Animal):\n",
        "    def speak(self):\n",
        "        print(\"Bark!\")\n",
        "\n",
        "# Create an instance of Animal\n",
        "animal = Animal()\n",
        "animal.speak()  # Output: Generic animal sound\n",
        "\n",
        "# Create an instance of Dog\n",
        "dog = Dog()\n",
        "dog.speak()  # Output: Bark!"
      ]
    },
    {
      "cell_type": "markdown",
      "source": [
        "2. Write a program to create an abstract class Shape with a method area(). Derive classes Circle and Rectangle\n",
        "from it and implement the area() method in both."
      ],
      "metadata": {
        "id": "3hcxFVQWTs1Z"
      }
    },
    {
      "cell_type": "code",
      "source": [
        "from abc import ABC, abstractmethod\n",
        "import math\n",
        "\n",
        "class Shape(ABC):\n",
        "    @abstractmethod\n",
        "    def area(self):\n",
        "        pass\n",
        "\n",
        "class Circle(Shape):\n",
        "    def __init__(self, radius):\n",
        "        self.radius = radius\n",
        "\n",
        "    def area(self):\n",
        "        return math.pi * self.radius**2\n",
        "\n",
        "class Rectangle(Shape):\n",
        "    def __init__(self, length, width):\n",
        "        self.length = length\n",
        "        self.width = width\n",
        "\n",
        "    def area(self):\n",
        "        return self.length * self.width\n",
        "\n",
        "# Example usage\n",
        "circle = Circle(5)\n",
        "rectangle = Rectangle(4, 6)\n",
        "\n",
        "print(f\"Area of circle: {circle.area()}\")\n",
        "print(f\"Area of rectangle: {rectangle.area()}\")"
      ],
      "metadata": {
        "colab": {
          "base_uri": "https://localhost:8080/"
        },
        "id": "32VT1kO6Tvf4",
        "outputId": "1e70edb8-3b77-4187-b98a-cbc0d5e8de35"
      },
      "execution_count": 2,
      "outputs": [
        {
          "output_type": "stream",
          "name": "stdout",
          "text": [
            "Area of circle: 78.53981633974483\n",
            "Area of rectangle: 24\n"
          ]
        }
      ]
    },
    {
      "cell_type": "markdown",
      "source": [
        "3. Implement a multi-level inheritance scenario where a class Vehicle has an attribute type. Derive a class Car\n",
        "and further derive a class ElectricCar that adds a battery attribute."
      ],
      "metadata": {
        "id": "Q9F9yjlh6pms"
      }
    },
    {
      "cell_type": "code",
      "source": [
        "class Vehicle:\n",
        "    def __init__(self, type):\n",
        "        self.type = type\n",
        "\n",
        "    def describe(self):\n",
        "        print(f\"This is a {self.type}.\")\n",
        "\n",
        "class Car(Vehicle):\n",
        "    def __init__(self, type, model):\n",
        "        super().__init__(type)\n",
        "        self.model = model\n",
        "\n",
        "    def describe(self):\n",
        "        super().describe()  # Call the parent's describe method\n",
        "        print(f\"It's a {self.model} model.\")\n",
        "\n",
        "\n",
        "class ElectricCar(Car):\n",
        "    def __init__(self, type, model, battery_capacity):\n",
        "        super().__init__(type, model)\n",
        "        self.battery_capacity = battery_capacity\n",
        "\n",
        "    def describe(self):\n",
        "        super().describe()\n",
        "        print(f\"It has a {self.battery_capacity} kWh battery.\")\n",
        "\n",
        "# Example usage:\n",
        "vehicle = Vehicle(\"vehicle\")\n",
        "vehicle.describe()\n",
        "\n",
        "car = Car(\"car\", \"Sedan\")\n",
        "car.describe()\n",
        "\n",
        "electric_car = ElectricCar(\"electric car\", \"Tesla\", 100)\n",
        "electric_car.describe()"
      ],
      "metadata": {
        "colab": {
          "base_uri": "https://localhost:8080/"
        },
        "id": "28nLgTF4UbNV",
        "outputId": "f549a831-5eb4-450b-ec06-8bbfb21097e9"
      },
      "execution_count": 3,
      "outputs": [
        {
          "output_type": "stream",
          "name": "stdout",
          "text": [
            "This is a vehicle.\n",
            "This is a car.\n",
            "It's a Sedan model.\n",
            "This is a electric car.\n",
            "It's a Tesla model.\n",
            "It has a 100 kWh battery.\n"
          ]
        }
      ]
    },
    {
      "cell_type": "markdown",
      "source": [
        "4. Demonstrate polymorphism by creating a base class Bird with a method fly(). Create two derived classes\n",
        "Sparrow and Penguin that override the fly() method."
      ],
      "metadata": {
        "id": "5lcg73huUgUy"
      }
    },
    {
      "cell_type": "code",
      "source": [
        "class Bird:\n",
        "    def fly(self):\n",
        "        print(\"A bird is flying.\")\n",
        "\n",
        "\n",
        "class Sparrow(Bird):\n",
        "    def fly(self):\n",
        "        print(\"A sparrow is flying high.\")\n",
        "\n",
        "\n",
        "class Penguin(Bird):\n",
        "    def fly(self):\n",
        "        print(\"A penguin cannot fly, but it can swim.\")\n",
        "\n",
        "\n",
        "# Demonstrating polymorphism\n",
        "bird = Bird()\n",
        "sparrow = Sparrow()\n",
        "penguin = Penguin()\n",
        "\n",
        "bird.fly()  # Output: A bird is flying.\n",
        "sparrow.fly() # Output: A sparrow is flying high.\n",
        "penguin.fly() # Output: A penguin cannot fly, but it can swim."
      ],
      "metadata": {
        "colab": {
          "base_uri": "https://localhost:8080/"
        },
        "id": "vec0SPYxUuJb",
        "outputId": "5a906fd9-228b-46a1-cf77-c440ceaa54ed"
      },
      "execution_count": 4,
      "outputs": [
        {
          "output_type": "stream",
          "name": "stdout",
          "text": [
            "A bird is flying.\n",
            "A sparrow is flying high.\n",
            "A penguin cannot fly, but it can swim.\n"
          ]
        }
      ]
    },
    {
      "cell_type": "markdown",
      "source": [
        "5. Write a program to demonstrate encapsulation by creating a class BankAccount with private attributes\n",
        "balance and methods to deposit, withdraw, and check balance."
      ],
      "metadata": {
        "id": "xnHv55nmU3uO"
      }
    },
    {
      "cell_type": "code",
      "source": [
        "class BankAccount:\n",
        "    def __init__(self, account_number, date_of_opening, balance, customer_name):\n",
        "        self.account_number = account_number\n",
        "        self.date_of_opening  = date_of_opening\n",
        "        self.balance = balance\n",
        "        self.customer_name = customer_name\n",
        "\n",
        "    def deposit(self, amount):\n",
        "        self.balance += amount\n",
        "        print(f\"${amount} has been deposited in your account.\")\n",
        "\n",
        "    def withdraw(self, amount):\n",
        "        if amount > self.balance:\n",
        "            print(\"Insufficient balance.\")\n",
        "        else:\n",
        "            self.balance -= amount\n",
        "            print(f\"${amount} has been withdrawn from your account.\")\n",
        "\n",
        "    def check_balance(self):\n",
        "        print(f\"Current balance is ${self.balance}.\")\n",
        "\n",
        "    def print_customer_details(self):\n",
        "        print(\"Name:\", self.customer_name)\n",
        "        print(\"Account Number:\", self.account_number)\n",
        "        print(\"Date of opening:\", self.date_of_opening)\n",
        "        print(f\"Balance: ${self.balance}\\n\")\n",
        "\n",
        "# Input customer details\n",
        "ac_no_1 = BankAccount(2345, \"01-01-2011\", 1000, \"Toninho Takeo\")\n",
        "ac_no_2 = BankAccount(1234, \"11-03-2011\", 2000, \"Astrid Rugile\")\n",
        "ac_no_3 = BankAccount(2312, \"12-01-2009\", 3000, \"Orli Kerenza\")\n",
        "ac_no_4 = BankAccount(1395, \"01-01-2011\", 3000, \"Luciana Chika\")\n",
        "ac_no_5 = BankAccount(6345, \"01-05-2011\", 4000, \"Toninho Takeo\")\n",
        "\n",
        "print(\"Customer Details:\")\n",
        "ac_no_1.print_customer_details()\n",
        "ac_no_2.print_customer_details()\n",
        "ac_no_3.print_customer_details()\n",
        "ac_no_4.print_customer_details()\n",
        "ac_no_5.print_customer_details()\n",
        "\n",
        "print(\"=============================\")\n",
        "ac_no_4.print_customer_details()\n",
        "# Current balance is $3000.\n",
        "# $1000 has been deposited in your account.\n",
        "ac_no_4.deposit(1000)\n",
        "ac_no_4.check_balance()\n",
        "# Your current balance $4000.\n",
        "# You want to withdraw $5000\n",
        "ac_no_4.withdraw(5000)\n",
        "# Output:\n",
        "# Insufficient balance.\n",
        "#The customer withdraw $3400.\n",
        "ac_no_4.withdraw(3400)\n",
        "ac_no_4.check_balance()\n"
      ],
      "metadata": {
        "colab": {
          "base_uri": "https://localhost:8080/"
        },
        "id": "uY8JgoMNU4Ws",
        "outputId": "dd49cda3-9dde-45be-80a7-d1b4d918c4df"
      },
      "execution_count": 5,
      "outputs": [
        {
          "output_type": "stream",
          "name": "stdout",
          "text": [
            "Customer Details:\n",
            "Name: Toninho Takeo\n",
            "Account Number: 2345\n",
            "Date of opening: 01-01-2011\n",
            "Balance: $1000\n",
            "\n",
            "Name: Astrid Rugile\n",
            "Account Number: 1234\n",
            "Date of opening: 11-03-2011\n",
            "Balance: $2000\n",
            "\n",
            "Name: Orli Kerenza\n",
            "Account Number: 2312\n",
            "Date of opening: 12-01-2009\n",
            "Balance: $3000\n",
            "\n",
            "Name: Luciana Chika\n",
            "Account Number: 1395\n",
            "Date of opening: 01-01-2011\n",
            "Balance: $3000\n",
            "\n",
            "Name: Toninho Takeo\n",
            "Account Number: 6345\n",
            "Date of opening: 01-05-2011\n",
            "Balance: $4000\n",
            "\n",
            "=============================\n",
            "Name: Luciana Chika\n",
            "Account Number: 1395\n",
            "Date of opening: 01-01-2011\n",
            "Balance: $3000\n",
            "\n",
            "$1000 has been deposited in your account.\n",
            "Current balance is $4000.\n",
            "Insufficient balance.\n",
            "$3400 has been withdrawn from your account.\n",
            "Current balance is $600.\n"
          ]
        }
      ]
    },
    {
      "cell_type": "markdown",
      "source": [
        "6. Demonstrate runtime polymorphism using a method play() in a base class Instrument. Derive classes Guitar\n",
        "and Piano that implement their own version of play()."
      ],
      "metadata": {
        "id": "C9eFSP2PU5RI"
      }
    },
    {
      "cell_type": "code",
      "source": [
        "class Instrument:\n",
        "    def play(self):\n",
        "        print(\"Playing a generic instrument\")\n",
        "\n",
        "class Guitar(Instrument):\n",
        "    def play(self):\n",
        "        print(\"Strumming the guitar\")\n",
        "\n",
        "class Piano(Instrument):\n",
        "    def play(self):\n",
        "        print(\"Playing the piano keys\")\n",
        "\n",
        "def instrument_sound(instrument):\n",
        "    instrument.play()\n",
        "\n",
        "if __name__ == \"__main__\":\n",
        "    instrument = Instrument()\n",
        "    guitar = Guitar()\n",
        "    piano = Piano()\n",
        "\n",
        "    instrument_sound(instrument)\n",
        "    instrument_sound(guitar)\n",
        "    instrument_sound(piano)"
      ],
      "metadata": {
        "colab": {
          "base_uri": "https://localhost:8080/"
        },
        "id": "ci8Za2LTU6El",
        "outputId": "be63048e-6cee-4ac8-e648-9792c97b8765"
      },
      "execution_count": 6,
      "outputs": [
        {
          "output_type": "stream",
          "name": "stdout",
          "text": [
            "Playing a generic instrument\n",
            "Strumming the guitar\n",
            "Playing the piano keys\n"
          ]
        }
      ]
    },
    {
      "cell_type": "markdown",
      "source": [
        "7. Create a class MathOperations with a class method add_numbers() to add two numbers and a static\n",
        "method subtract_numbers() to subtract two numbers."
      ],
      "metadata": {
        "id": "zMiBWfHNWkRS"
      }
    },
    {
      "cell_type": "code",
      "source": [
        "class MathOperations:\n",
        "    @classmethod\n",
        "    def add_numbers(cls, x, y):\n",
        "        return x + y\n",
        "\n",
        "    @staticmethod\n",
        "    def subtract_numbers(x, y):\n",
        "        return x - y\n",
        "\n",
        "# Example usage\n",
        "result_add = MathOperations.add_numbers(5, 3)\n",
        "print(f\"The sum is: {result_add}\")\n",
        "\n",
        "result_subtract = MathOperations.subtract_numbers(10, 4)\n",
        "print(f\"The difference is: {result_subtract}\")"
      ],
      "metadata": {
        "colab": {
          "base_uri": "https://localhost:8080/"
        },
        "id": "CblOI1Q2X3zs",
        "outputId": "39c29cef-e88e-4353-e1a7-4087909fb7d9"
      },
      "execution_count": 7,
      "outputs": [
        {
          "output_type": "stream",
          "name": "stdout",
          "text": [
            "The sum is: 8\n",
            "The difference is: 6\n"
          ]
        }
      ]
    },
    {
      "cell_type": "markdown",
      "source": [
        "8. Implement a class Person with a class method to count the total number of persons created."
      ],
      "metadata": {
        "id": "aLuAwyPwYNJ0"
      }
    },
    {
      "cell_type": "code",
      "source": [
        "class Person:\n",
        "    count = 0  # Class variable to store the total number of persons created\n",
        "    def __init__(self, name):\n",
        "        self.name = name\n",
        "        Person.count += 1  # Increment count for each new instance\n",
        "\n",
        "    @classmethod\n",
        "    def get_total_persons(cls):\n",
        "        return cls.count\n",
        "\n",
        "# Create some instances of the Person class\n",
        "person1 = Person(\"Alice\")\n",
        "person2 = Person(\"Bob\")\n",
        "person3 = Person(\"Charlie\")\n",
        "\n",
        "# Get the total number of persons created\n",
        "total_persons = Person.get_total_persons()\n",
        "\n",
        "# Print the result\n",
        "print(f\"Total number of persons created: {total_persons}\")"
      ],
      "metadata": {
        "colab": {
          "base_uri": "https://localhost:8080/"
        },
        "id": "k9yrrv99YN1O",
        "outputId": "7a8b5fb4-a734-41a9-b5ef-8191ec6e4d12"
      },
      "execution_count": 8,
      "outputs": [
        {
          "output_type": "stream",
          "name": "stdout",
          "text": [
            "Total number of persons created: 3\n"
          ]
        }
      ]
    },
    {
      "cell_type": "markdown",
      "source": [
        "9. Write a class Fraction with attributes numerator and denominator. Override the str method to display the\n",
        "fraction as \"numerator/denominator\"."
      ],
      "metadata": {
        "id": "3pqH1zP5ZE8F"
      }
    },
    {
      "cell_type": "code",
      "source": [
        "class Fraction:\n",
        "    def __init__(self, numerator, denominator):\n",
        "        self.numerator = numerator\n",
        "        self.denominator = denominator\n",
        "\n",
        "    def __str__(self):\n",
        "        return f\"{self.numerator}/{self.denominator}\"\n",
        "\n",
        "# Example usage\n",
        "fraction1 = Fraction(3, 4)\n",
        "print(fraction1)  # Output: 3/4\n",
        "\n",
        "fraction2 = Fraction(1, 2)\n",
        "print(fraction2)  # Output: 1/2"
      ],
      "metadata": {
        "colab": {
          "base_uri": "https://localhost:8080/"
        },
        "id": "2tXrhFcgZsGy",
        "outputId": "e9d16146-45d5-471b-b348-c747b461c987"
      },
      "execution_count": 10,
      "outputs": [
        {
          "output_type": "stream",
          "name": "stdout",
          "text": [
            "3/4\n",
            "1/2\n"
          ]
        }
      ]
    },
    {
      "cell_type": "markdown",
      "source": [
        "10. Demonstrate operator overloading by creating a class Vector and overriding the add method to add two\n",
        "vectors."
      ],
      "metadata": {
        "id": "faNxZjs_Z-5h"
      }
    },
    {
      "cell_type": "code",
      "source": [
        "class Vector:\n",
        "    def __init__(self, x, y):\n",
        "        self.x = x\n",
        "        self.y = y\n",
        "\n",
        "    def __add__(self, other):\n",
        "        if isinstance(other, Vector):\n",
        "            return Vector(self.x + other.x, self.y + other.y)\n",
        "        else:\n",
        "      raise TypeError(\"Unsupported operand type for +: 'Vector' and '{}'\".format\n",
        "       (type(other).__name__))\n",
        "\n",
        "    def __str__(self):\n",
        "        return \"({}, {})\".format(self.x, self.y)\n",
        "\n",
        "# Example usage:\n",
        "v1 = Vector(2, 3)\n",
        "v2 = Vector(4, 5)\n",
        "v3 = v1 + v2  # Using the overloaded + operator\n",
        "print(v3)  # Output: (6, 8)\n",
        "\n",
        "# Example of error handling:\n",
        "v4 = v1 + 5"
      ],
      "metadata": {
        "colab": {
          "base_uri": "https://localhost:8080/",
          "height": 106
        },
        "id": "8Vj6AbyMaRw_",
        "outputId": "958efa04-61ac-4d1c-d9f3-12d0918b4d4e"
      },
      "execution_count": 21,
      "outputs": [
        {
          "output_type": "error",
          "ename": "IndentationError",
          "evalue": "unindent does not match any outer indentation level (<tokenize>, line 10)",
          "traceback": [
            "\u001b[0;36m  File \u001b[0;32m\"<tokenize>\"\u001b[0;36m, line \u001b[0;32m10\u001b[0m\n\u001b[0;31m    raise TypeError(\"Unsupported operand type for +: 'Vector' and '{}'\".format\u001b[0m\n\u001b[0m    ^\u001b[0m\n\u001b[0;31mIndentationError\u001b[0m\u001b[0;31m:\u001b[0m unindent does not match any outer indentation level\n"
          ]
        }
      ]
    },
    {
      "cell_type": "markdown",
      "source": [
        "11. Create a class Person with attributes name and age. Add a method greet() that prints \"Hello, my name is\n",
        "{name} and I am {age} years old"
      ],
      "metadata": {
        "id": "WtGFgwumcMrb"
      }
    },
    {
      "cell_type": "code",
      "source": [
        "class Person:\n",
        "    def __init__(self, name, age):\n",
        "        self.name = name\n",
        "        self.age = age\n",
        "\n",
        "    def greet(self):\n",
        "        print(f\"Hello, my name is {self.name} and I am {self.age} years old.\")\n",
        "\n",
        "# Example usage:\n",
        "person1 = Person(\"Alice\", 30)\n",
        "person1.greet()\n",
        "\n",
        "person2 = Person(\"Bob\", 25)\n",
        "person2.greet()"
      ],
      "metadata": {
        "colab": {
          "base_uri": "https://localhost:8080/"
        },
        "id": "cFad4pB5cXn5",
        "outputId": "5e61ebea-7efe-430e-b326-e9737deafb7f"
      },
      "execution_count": 22,
      "outputs": [
        {
          "output_type": "stream",
          "name": "stdout",
          "text": [
            "Hello, my name is Alice and I am 30 years old.\n",
            "Hello, my name is Bob and I am 25 years old.\n"
          ]
        }
      ]
    },
    {
      "cell_type": "markdown",
      "source": [
        "12. Implement a class Student with attributes name and grades. Create a method average_grade() to compute\n",
        "the average of the grades."
      ],
      "metadata": {
        "id": "YroC2sINdBAS"
      }
    },
    {
      "cell_type": "code",
      "source": [
        "class Student:\n",
        "    def __init__(self, name, grades):\n",
        "        \"\"\"\n",
        "        Initializes a Student object.\n",
        "\n",
        "        Args:\n",
        "            name (str): The name of the student.\n",
        "            grades (list): A list of numerical grades.\n",
        "        \"\"\"\n",
        "        self.name = name\n",
        "        self.grades = grades\n",
        "\n",
        "    def average_grade(self):\n",
        "        \"\"\"\n",
        "        Calculates the average of the student's grades.\n",
        "\n",
        "        Returns:\n",
        "            float: The average grade, or 0.0 if there are no grades.\n",
        "        \"\"\"\n",
        "        if not self.grades:\n",
        "            return 0.0\n",
        "        return sum(self.grades) / len(self.grades)\n",
        "\n",
        "# Example usage\n",
        "student1 = Student(\"Alice\", [85, 90, 78, 92])\n",
        "print(f\"{student1.name}'s average grade: {student1.average_grade()}\")\n",
        "\n",
        "student2 = Student(\"Bob\", [])\n",
        "print(f\"{student2.name}'s average grade: {student2.average_grade()}\")"
      ],
      "metadata": {
        "colab": {
          "base_uri": "https://localhost:8080/"
        },
        "id": "hqfgVOp0dNvx",
        "outputId": "65b26ced-de49-41e8-9cbd-48d17d5baf6b"
      },
      "execution_count": 23,
      "outputs": [
        {
          "output_type": "stream",
          "name": "stdout",
          "text": [
            "Alice's average grade: 86.25\n",
            "Bob's average grade: 0.0\n"
          ]
        }
      ]
    },
    {
      "cell_type": "markdown",
      "source": [
        "13. Create a class Rectangle with methods set_dimensions() to set the dimensions and area() to calculate the\n",
        "area."
      ],
      "metadata": {
        "id": "bMKoDXNHdiim"
      }
    },
    {
      "cell_type": "code",
      "source": [
        "   class Rectangle:\n",
        "    def __init__(self, length, width):\n",
        "        self.length = length\n",
        "        self.width = width\n",
        "    def __init__(self):\n",
        "        self.length = 0\n",
        "        self.width = 0\n",
        "\n",
        "    def set_dimensions(self, length, width):\n",
        "        self.length = length\n",
        "        self.width = width\n",
        "\n",
        "    def area(self):\n",
        "        return self.length * self.width\n",
        "\n"
      ],
      "metadata": {
        "id": "bWgMqe6DdoZG"
      },
      "execution_count": 36,
      "outputs": []
    },
    {
      "cell_type": "code",
      "source": [
        "   class Rectangle:\n",
        "       def __init__(self):\n",
        "           self.length = 0\n",
        "           self.width = 0\n",
        "\n",
        "       def set_dimensions(self, length, width):\n",
        "           self.length = length\n",
        "           self.width = width\n",
        "\n",
        "       def area(self):\n",
        "           return self.length * self.width"
      ],
      "metadata": {
        "id": "0vgllhayYwBk"
      },
      "execution_count": 37,
      "outputs": []
    },
    {
      "cell_type": "markdown",
      "source": [
        "4. Create a class Employee with a method calculate_salary() that computes the salary based on hours worked\n",
        "and hourly rate. Create a derived class Manager that adds a bonus to the salary."
      ],
      "metadata": {
        "id": "-jzeOnEgfb2C"
      }
    },
    {
      "cell_type": "code",
      "source": [
        "class Employee:\n",
        "    def __init__(self, name, hourly_rate):\n",
        "        self.name = name\n",
        "        self.hourly_rate = hourly_rate\n",
        "\n",
        "    def calculate_salary(self, hours_worked):\n",
        "        return hours_worked * self.hourly_rate\n",
        "\n",
        "class Manager(Employee):\n",
        "    def __init__(self, name, hourly_rate, bonus_percentage):\n",
        "        super().__init__(name, hourly_rate)\n",
        "        self.bonus_percentage = bonus_percentage\n",
        "\n",
        "    def calculate_salary(self, hours_worked):\n",
        "        salary = super().calculate_salary(hours_worked)\n",
        "        bonus = salary * (self.bonus_percentage / 100)\n",
        "        return salary + bonus\n",
        "\n",
        "# Example usage\n",
        "employee = Employee(\"Alice\", 20)\n",
        "manager = Manager(\"Bob\", 30, 10)\n",
        "\n",
        "employee_salary = employee.calculate_salary(40)\n",
        "manager_salary = manager.calculate_salary(40)\n",
        "\n",
        "print(f\"{employee.name}'s salary: ${employee_salary}\") # Output: Alice's salary: $800\n",
        "print(f\"{manager.name}'s salary: ${manager_salary}\")   # Output: Bob's salary: $1320"
      ],
      "metadata": {
        "colab": {
          "base_uri": "https://localhost:8080/"
        },
        "id": "FrzI49i7f6ly",
        "outputId": "db03be76-a736-4ff9-80e6-938f433d42a2"
      },
      "execution_count": 38,
      "outputs": [
        {
          "output_type": "stream",
          "name": "stdout",
          "text": [
            "Alice's salary: $800\n",
            "Bob's salary: $1320.0\n"
          ]
        }
      ]
    },
    {
      "cell_type": "markdown",
      "source": [
        "15. Create a class Product with attributes name, price, and quantity. Implement a method total_price() that\n",
        "calculates the total price of the product."
      ],
      "metadata": {
        "id": "Knz4oO0WgE82"
      }
    },
    {
      "cell_type": "code",
      "source": [
        "class Product:\n",
        "    def __init__(self, name, price, quantity):\n",
        "        self.name = name\n",
        "        self.price = price\n",
        "        self.quantity = quantity\n",
        "\n",
        "    def total_price(self):\n",
        "        return self.price * self.quantity\n",
        "\n",
        "# Example usage\n",
        "product1 = Product(\"Laptop\", 1200, 5)\n",
        "print(f\"Total price for {product1.name}: ${product1.total_price()}\")\n",
        "\n",
        "product2 = Product(\"Headphones\", 100, 10)\n",
        "print(f\"Total price for {product2.name}: ${product2.total_price()}\")"
      ],
      "metadata": {
        "colab": {
          "base_uri": "https://localhost:8080/"
        },
        "id": "TSxIGoA6gZRa",
        "outputId": "096fa3e5-7a1b-485a-f563-3d13c5a79e14"
      },
      "execution_count": 39,
      "outputs": [
        {
          "output_type": "stream",
          "name": "stdout",
          "text": [
            "Total price for Laptop: $6000\n",
            "Total price for Headphones: $1000\n"
          ]
        }
      ]
    },
    {
      "cell_type": "markdown",
      "source": [
        "16.Create a class Animal with an abstract method sound(). Create two derived classes Cow and Sheep that\n",
        "implement the sound() method."
      ],
      "metadata": {
        "id": "Jp3LNCPHggDN"
      }
    },
    {
      "cell_type": "code",
      "source": [
        "from abc import ABC, abstractmethod\n",
        "\n",
        "class Animal(ABC):\n",
        "    @abstractmethod\n",
        "    def sound(self):\n",
        "        pass\n",
        "\n",
        "class Cow(Animal):\n",
        "    def sound(self):\n",
        "        return \"Moo\"\n",
        "\n",
        "class Sheep(Animal):\n",
        "    def sound(self):\n",
        "        return \"Baa\"\n",
        "\n",
        "# Example usage\n",
        "cow = Cow()\n",
        "sheep = Sheep()\n",
        "\n",
        "print(f\"Cow sound: {cow.sound()}\")\n",
        "print(f\"Sheep sound: {sheep.sound()}\")"
      ],
      "metadata": {
        "colab": {
          "base_uri": "https://localhost:8080/"
        },
        "id": "U7QG3jlegn-8",
        "outputId": "38badba9-42af-4587-e996-c8d4c79ca0dd"
      },
      "execution_count": 40,
      "outputs": [
        {
          "output_type": "stream",
          "name": "stdout",
          "text": [
            "Cow sound: Moo\n",
            "Sheep sound: Baa\n"
          ]
        }
      ]
    },
    {
      "cell_type": "markdown",
      "source": [
        "7.Create a class Book with attributes title, author, and year_published. Add a method get_book_info() that\n",
        "returns a formatted string with the book's details."
      ],
      "metadata": {
        "id": "-6OZT6MTg6xx"
      }
    },
    {
      "cell_type": "code",
      "source": [
        "class Book:\n",
        "    def __init__(self, author, title):\n",
        "        self.author = author\n",
        "        self.title = title\n",
        "\n",
        "    def __str__(self):\n",
        "        return f'{self.author}, {self.title}'\n",
        "\n",
        "book_one= Book('John Green', 'PaperTowns')\n",
        "print(str(book_one))"
      ],
      "metadata": {
        "colab": {
          "base_uri": "https://localhost:8080/"
        },
        "id": "3bqVBwTbiSgS",
        "outputId": "35d931d9-349c-4362-accf-9ff7a18d2196"
      },
      "execution_count": 43,
      "outputs": [
        {
          "output_type": "stream",
          "name": "stdout",
          "text": [
            "John Green, PaperTowns\n"
          ]
        }
      ]
    },
    {
      "cell_type": "markdown",
      "source": [
        "18.Create a class House with attributes address and price. Create a derived class Mansion that adds an\n",
        "attribute number_of_rooms."
      ],
      "metadata": {
        "id": "L3oJ6lmCixgP"
      }
    },
    {
      "cell_type": "code",
      "source": [
        "class House:\n",
        "    def __init__(self, address, price):\n",
        "        self.address = address\n",
        "        self.price = price\n",
        "\n",
        "class Mansion(House):\n",
        "    def __init__(self, address, price, num_rooms):\n",
        "        super().__init__(address, price)\n",
        "        self.num_rooms = num_rooms\n",
        ""
      ],
      "metadata": {
        "id": "krlpik65jc3a"
      },
      "execution_count": 45,
      "outputs": []
    }
  ]
}