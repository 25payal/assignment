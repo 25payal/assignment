{
  "nbformat": 4,
  "nbformat_minor": 0,
  "metadata": {
    "colab": {
      "private_outputs": true,
      "provenance": []
    },
    "kernelspec": {
      "name": "python3",
      "display_name": "Python 3"
    },
    "language_info": {
      "name": "python"
    }
  },
  "cells": [
    {
      "cell_type": "markdown",
      "source": [
        "# Assignment1"
      ],
      "metadata": {
        "id": "8MchlGw2_Bfe"
      }
    },
    {
      "cell_type": "markdown",
      "source": [
        "\n",
        "1.Explain the key features of Python that make it a popular choice for programming\n",
        "\n",
        "-> python's versatility,readablity,easy-to-learn syntax,large standard\n",
        "library,and huge active community make it a popular choice for programming.\n",
        "\n",
        "2.Describe the role of predefined keywords in Python and provide examples of how they are used in a program\n",
        "\n",
        "->predefined keywords in python are reserved words that have special meanings and are part of the python syntax.These keywords cannot be used as identifiers because they are used to define the structure and flow of python programs."
      ],
      "metadata": {
        "id": "KQTTjCpb_BRU"
      }
    },
    {
      "cell_type": "code",
      "source": [
        "#example1\n"
      ],
      "metadata": {
        "id": "rRRWgJFj_eFF"
      },
      "execution_count": null,
      "outputs": []
    },
    {
      "cell_type": "code",
      "source": [
        "age = 20\n",
        "if age >=18:\n",
        "    print(\"you are an adult\")\n",
        "elif age >=13:\n",
        "    print(\"you are a teenager\")\n",
        "else:\n",
        "    print(\"you are a child\")"
      ],
      "metadata": {
        "id": "zXTHIuBe_YNf"
      },
      "execution_count": null,
      "outputs": []
    },
    {
      "cell_type": "code",
      "source": [
        "#example2"
      ],
      "metadata": {
        "id": "nARP42Or_KvI"
      },
      "execution_count": null,
      "outputs": []
    },
    {
      "cell_type": "code",
      "source": [
        "has_money: bool= False\n",
        "print(has_money)\n",
        "print(int(False))"
      ],
      "metadata": {
        "id": "5jG_BkmeAQxZ"
      },
      "execution_count": null,
      "outputs": []
    },
    {
      "cell_type": "markdown",
      "source": [
        "3.Compare and contrast mutable and immutable objects in Python with examples\n",
        "\n",
        "-> Mutable objects\n",
        "\n",
        "*Definition:Objects whose contents(value/state)can be changed after creation. *Example: list,dict,set"
      ],
      "metadata": {
        "id": "B24k-U1kpGWP"
      }
    },
    {
      "cell_type": "code",
      "source": [
        "#example"
      ],
      "metadata": {
        "id": "zf4AsSn4pTKo"
      },
      "execution_count": null,
      "outputs": []
    },
    {
      "cell_type": "code",
      "source": [
        "my_list = [1,2,3]\n",
        "my_list[0] = 4\n",
        "print(my_list)"
      ],
      "metadata": {
        "id": "AXHAJft3pUWF"
      },
      "execution_count": null,
      "outputs": []
    },
    {
      "cell_type": "markdown",
      "source": [],
      "metadata": {
        "id": "OWG_bUZnCtjw"
      }
    },
    {
      "cell_type": "markdown",
      "source": [
        "Immutable Objects:\n",
        "\n",
        "*Definition: Objects whose contents cannot be changed after creation.Any operation that seems to modify them acually creats a new object.\n",
        "\n",
        "*Example:int,float,str,tuple"
      ],
      "metadata": {
        "id": "C7PnBZscC3yj"
      }
    },
    {
      "cell_type": "code",
      "source": [
        "#example with str"
      ],
      "metadata": {
        "id": "TpfRU-I-7ffO"
      },
      "execution_count": null,
      "outputs": []
    },
    {
      "cell_type": "code",
      "source": [
        "my_str = \"hello\"\n",
        "new_str = my_str + \"world\""
      ],
      "metadata": {
        "id": "1ubp5tQopUL3"
      },
      "execution_count": null,
      "outputs": []
    },
    {
      "cell_type": "code",
      "source": [
        "print(my_str)\n",
        "print(new_str)"
      ],
      "metadata": {
        "id": "VCBaRpvapT8E"
      },
      "execution_count": null,
      "outputs": []
    },
    {
      "cell_type": "markdown",
      "source": [],
      "metadata": {
        "id": "rwegcLYHHumG"
      }
    },
    {
      "cell_type": "code",
      "source": [
        "#example with int"
      ],
      "metadata": {
        "id": "gmYA2hZqAQlj"
      },
      "execution_count": null,
      "outputs": []
    },
    {
      "cell_type": "code",
      "source": [],
      "metadata": {
        "id": "YqpBltgnAQO8"
      },
      "execution_count": null,
      "outputs": []
    },
    {
      "cell_type": "code",
      "source": [
        "a = 10\n",
        "b = a\n",
        "a = a + 5"
      ],
      "metadata": {
        "id": "ct6X8L9oESei"
      },
      "execution_count": null,
      "outputs": []
    },
    {
      "cell_type": "code",
      "source": [
        "print(a)\n",
        "print(b)"
      ],
      "metadata": {
        "id": "17hZcmDarc1m"
      },
      "execution_count": null,
      "outputs": []
    },
    {
      "cell_type": "code",
      "source": [],
      "metadata": {
        "id": "gLQI4wc1rv52"
      },
      "execution_count": null,
      "outputs": []
    },
    {
      "cell_type": "markdown",
      "source": [
        "4.Discuss the different types of operators in Python and provide examples of how they are used\n",
        "\n",
        "->Operators are special symbols or keywords that are used to carry out specific actions on numbers or variables in Python expressions."
      ],
      "metadata": {
        "id": "BdZBBhL9r3Q_"
      }
    },
    {
      "cell_type": "code",
      "source": [
        "#1.arithmetic operator-perform methemetical operations between two operands"
      ],
      "metadata": {
        "id": "caB0vxaNrv2k"
      },
      "execution_count": null,
      "outputs": []
    },
    {
      "cell_type": "code",
      "source": [
        "a = 7\n",
        "b = 2\n",
        "a + b"
      ],
      "metadata": {
        "id": "UcQ1Ea1Vrvy5"
      },
      "execution_count": null,
      "outputs": []
    },
    {
      "cell_type": "code",
      "source": [
        "a / b"
      ],
      "metadata": {
        "id": "JyQT5A9_7fG0"
      },
      "execution_count": null,
      "outputs": []
    },
    {
      "cell_type": "code",
      "source": [
        "#2.comparison operators-compare two value-return a boolean value"
      ],
      "metadata": {
        "id": "BmqyPEw-spnw"
      },
      "execution_count": null,
      "outputs": []
    },
    {
      "cell_type": "code",
      "source": [
        "x = 5\n",
        "y = 2\n",
        "print(x==y)\n",
        "print(x!=y)\n",
        "print(x>y)\n",
        "print(x<y)"
      ],
      "metadata": {
        "id": "Ec6e-TLlsphC"
      },
      "execution_count": null,
      "outputs": []
    },
    {
      "cell_type": "code",
      "source": [],
      "metadata": {
        "id": "J9wN-p8UFDOY"
      },
      "execution_count": null,
      "outputs": []
    },
    {
      "cell_type": "code",
      "source": [
        "#3.logical operator-asses expewssion to make decision.and,or,not"
      ],
      "metadata": {
        "id": "zBuIUt6JXgoA"
      },
      "execution_count": null,
      "outputs": []
    },
    {
      "cell_type": "code",
      "source": [
        "x = 10\n",
        "print(x > 5 and x < 15)\n",
        "print(x > 5 or x < 15)\n",
        "print(not(x > 5))"
      ],
      "metadata": {
        "id": "im1gepJuspd3"
      },
      "execution_count": null,
      "outputs": []
    },
    {
      "cell_type": "code",
      "source": [
        "#4.assignment operator-assign value to variables"
      ],
      "metadata": {
        "id": "g10KlZCsXhwN"
      },
      "execution_count": null,
      "outputs": []
    },
    {
      "cell_type": "code",
      "source": [
        "x = 8\n",
        "x +=3\n",
        "print(x)\n",
        "x -= 1\n",
        "print(x)\n",
        "x *= 2\n",
        "print(x)\n",
        "x /= 2\n",
        "print(x)"
      ],
      "metadata": {
        "id": "O1RBtXVWspaC"
      },
      "execution_count": null,
      "outputs": []
    },
    {
      "cell_type": "code",
      "source": [
        "# 5.membership operator-checkif value specified sequence and return\n",
        "  true accordingly"
      ],
      "metadata": {
        "id": "yFryR0I5dUGR"
      },
      "execution_count": null,
      "outputs": []
    },
    {
      "cell_type": "code",
      "source": [
        "#example with a list\n",
        "my_list = [1,2,3,4,5]\n",
        "print(3 in my_list)\n",
        "print(6 in my_list)\n",
        "\n",
        "#example with string\n",
        "my_string = \"hello, world\"\n",
        "print('h' in my_string)\n",
        "print('helo' in my_string)\n",
        "print('python' in my_string)"
      ],
      "metadata": {
        "id": "4qL5SiWGspV-"
      },
      "execution_count": null,
      "outputs": []
    },
    {
      "cell_type": "code",
      "source": [
        "#6.identity operator-compare the location of two object/variable"
      ],
      "metadata": {
        "id": "LbMU66gJhO_w"
      },
      "execution_count": null,
      "outputs": []
    },
    {
      "cell_type": "code",
      "source": [
        "#example with int\n",
        "a = 10\n",
        "b = 10\n",
        "print(a is b)\n",
        "\n",
        "#example with list\n",
        "x = [1,2,3]\n",
        "y = [1,2,3]\n",
        "print(x is y)"
      ],
      "metadata": {
        "id": "_z2u8b5CspR7"
      },
      "execution_count": null,
      "outputs": []
    },
    {
      "cell_type": "code",
      "source": [
        "#7.biwise operators-act on bits and perform bit-by-bit operations"
      ],
      "metadata": {
        "id": "YVgOK1sZk6G4"
      },
      "execution_count": null,
      "outputs": []
    },
    {
      "cell_type": "code",
      "source": [
        "a = 5\n",
        "b = 3\n",
        "print(\"a & b =\", a & b)\n",
        "print(\"a | b =\", a | b)"
      ],
      "metadata": {
        "id": "_jrLducQspOJ"
      },
      "execution_count": null,
      "outputs": []
    },
    {
      "cell_type": "code",
      "source": [
        "bin(5)"
      ],
      "metadata": {
        "id": "AEP-N0gdk5po"
      },
      "execution_count": null,
      "outputs": []
    },
    {
      "cell_type": "markdown",
      "source": [
        "5. Explain the concept of type casting in Python with examples\n",
        "\n",
        "->Type casting in python is the process of converting the value of one data type into another.\n"
      ],
      "metadata": {
        "id": "J47LDgidv7HI"
      }
    },
    {
      "cell_type": "code",
      "source": [
        "#example float to int"
      ],
      "metadata": {
        "id": "ghSSlY_xso4d"
      },
      "execution_count": null,
      "outputs": []
    },
    {
      "cell_type": "code",
      "source": [
        "x=3.7\n",
        "y=int(x)\n",
        "print(y)"
      ],
      "metadata": {
        "id": "vFEQ2_XTso1T"
      },
      "execution_count": null,
      "outputs": []
    },
    {
      "cell_type": "code",
      "source": [
        "print(type(y))"
      ],
      "metadata": {
        "id": "iPVMvzHksoxg"
      },
      "execution_count": null,
      "outputs": []
    },
    {
      "cell_type": "code",
      "source": [
        "#example str to int"
      ],
      "metadata": {
        "id": "-16H4y6Fsot4"
      },
      "execution_count": null,
      "outputs": []
    },
    {
      "cell_type": "code",
      "source": [
        "s=\"123\"\n",
        "i=int(s)\n",
        "print(i)"
      ],
      "metadata": {
        "id": "NTg-JX3WsoqV"
      },
      "execution_count": null,
      "outputs": []
    },
    {
      "cell_type": "code",
      "source": [
        "print(type(i))"
      ],
      "metadata": {
        "id": "licXuPGzsonC"
      },
      "execution_count": null,
      "outputs": []
    },
    {
      "cell_type": "markdown",
      "source": [
        "6.How do conditional statements work in Python? Illustrate with examples\n",
        "\n",
        "->Conditional statments allow you to make decision in your code.they run diffrent blocks of code depending on whether a condition is True or False.\n"
      ],
      "metadata": {
        "id": "LACyih0FzUL9"
      }
    },
    {
      "cell_type": "code",
      "source": [
        "#example"
      ],
      "metadata": {
        "id": "86adju9ssogq"
      },
      "execution_count": null,
      "outputs": []
    },
    {
      "cell_type": "code",
      "source": [
        "a=33\n",
        "b=200\n",
        "if b>a:\n",
        "    print(\"b is greater than a\")"
      ],
      "metadata": {
        "id": "EYXNMKrJsoc0"
      },
      "execution_count": null,
      "outputs": []
    },
    {
      "cell_type": "markdown",
      "source": [
        "7.Describe the different types of loops in Python and their use cases with examples.\n",
        "\n",
        "->Python offers two primary types of loops: for loops and while loops."
      ],
      "metadata": {
        "id": "tTwiVlZ-GoI_"
      }
    },
    {
      "cell_type": "code",
      "source": [
        "#for loop: is used to literate over a sequence(like a list,tuple,string,or range)\n",
        "it allows you to execute a block of code multiple times."
      ],
      "metadata": {
        "id": "qoBYWVorGhtR"
      },
      "execution_count": null,
      "outputs": []
    },
    {
      "cell_type": "code",
      "source": [
        "#use case: when the number of iterations is known in advance or\n",
        "when you need to perform an action for each item in a Sequence"
      ],
      "metadata": {
        "id": "jxIB6l7sGRh7"
      },
      "execution_count": null,
      "outputs": []
    },
    {
      "cell_type": "code",
      "source": [
        "#example"
      ],
      "metadata": {
        "id": "6bXg0iFsJndD"
      },
      "execution_count": null,
      "outputs": []
    },
    {
      "cell_type": "code",
      "source": [
        "fruits = [\"chiku\",\"mango\",\"orange\"]\n",
        "for fruit in fruits:\n",
        "    print(fruit)"
      ],
      "metadata": {
        "id": "7LA_GpOnJntn"
      },
      "execution_count": null,
      "outputs": []
    },
    {
      "cell_type": "code",
      "source": [
        "#while loop:repeatedly executes a block of code as long as a given condition is\n",
        "True."
      ],
      "metadata": {
        "id": "86XtHb5MJn8c"
      },
      "execution_count": null,
      "outputs": []
    },
    {
      "cell_type": "code",
      "source": [
        "use case:repeating an action until a specific condition is met."
      ],
      "metadata": {
        "id": "Y2BR7KCaLRHm"
      },
      "execution_count": null,
      "outputs": []
    },
    {
      "cell_type": "code",
      "source": [
        "#example"
      ],
      "metadata": {
        "id": "j19vWuXYNDoS"
      },
      "execution_count": null,
      "outputs": []
    },
    {
      "cell_type": "code",
      "source": [
        "count = 0\n",
        "while count < 4:\n",
        "  print(count)\n",
        "  count += 1"
      ],
      "metadata": {
        "id": "L1xSCt4pLRPw"
      },
      "execution_count": null,
      "outputs": []
    },
    {
      "cell_type": "code",
      "source": [],
      "metadata": {
        "id": "Bja31LfpLRbl"
      },
      "execution_count": null,
      "outputs": []
    },
    {
      "cell_type": "markdown",
      "source": [],
      "metadata": {
        "id": "EXJCwqEZ_A-z"
      }
    },
    {
      "cell_type": "markdown",
      "source": [],
      "metadata": {
        "id": "z1G68g0P-_nJ"
      }
    },
    {
      "cell_type": "markdown",
      "source": [],
      "metadata": {
        "id": "CMlBZiHJCNtu"
      }
    },
    {
      "cell_type": "code",
      "source": [],
      "metadata": {
        "id": "rssf9k-Y-mm0"
      },
      "execution_count": null,
      "outputs": []
    },
    {
      "cell_type": "markdown",
      "source": [],
      "metadata": {
        "id": "jJhGZujrCTZW"
      }
    },
    {
      "cell_type": "markdown",
      "source": [],
      "metadata": {
        "id": "F-CQh_uCCTMd"
      }
    },
    {
      "cell_type": "markdown",
      "source": [],
      "metadata": {
        "id": "tplCRy_6CS5P"
      }
    }
  ]
}