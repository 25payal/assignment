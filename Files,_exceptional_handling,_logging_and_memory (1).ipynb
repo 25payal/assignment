{
  "nbformat": 4,
  "nbformat_minor": 0,
  "metadata": {
    "colab": {
      "provenance": []
    },
    "kernelspec": {
      "name": "python3",
      "display_name": "Python 3"
    },
    "language_info": {
      "name": "python"
    }
  },
  "cells": [
    {
      "cell_type": "markdown",
      "source": [
        "**Files, exceptional handling, logging and\n",
        "memory management Questions"
      ],
      "metadata": {
        "id": "AZpyArCtzEou"
      }
    },
    {
      "cell_type": "markdown",
      "source": [
        "1.what is the difference between interpreted and compiled languages?\n",
        "* Compiled language translet the entire program into machine code before execution,while interpreted languages translaye the code line by line during execution."
      ],
      "metadata": {
        "id": "n8qqWBaJzX7v"
      }
    },
    {
      "cell_type": "markdown",
      "source": [
        "2.What is exception handling in Python?\n",
        "* Exception handling in Python is a mechanism to manage runtime errors, preventing abrupt program termination. It involves using try, except, else, and finally blocks to handle exceptions gracefully."
      ],
      "metadata": {
        "id": "-st0ycgW1BS-"
      }
    },
    {
      "cell_type": "markdown",
      "source": [
        "What is the purpose of the finally block in exception handling?\n",
        "* It is used to execute important code such as closing resources, regardless of whether an exception is thrown or not. The finally block always executes when the try block exits, ensuring that cleanup code runs."
      ],
      "metadata": {
        "id": "hm7a8FQa1Z1l"
      }
    },
    {
      "cell_type": "markdown",
      "source": [
        "4.What is logging in Python?\n",
        "* Logging is a means of tracking events that happen when some software runs. The software's developer adds logging calls to their code to indicate that certain events have occurred"
      ],
      "metadata": {
        "id": "hQzGrUE02CF7"
      }
    },
    {
      "cell_type": "markdown",
      "source": [
        "5.What is the significance of the __del__ method in Python?h\n",
        "*  __del__ method in Python is a special method, also known as a destructor. It is automatically called when an object is about to be destroyed, which occurs when all references to the object have been removed and it is garbage collected"
      ],
      "metadata": {
        "id": "JsXGnTO42BOx"
      }
    },
    {
      "cell_type": "markdown",
      "source": [
        "6.What is the difference between import and from ... import in Python?\n",
        "* The import statement and the from ... import statement in Python serve different purposes in how they bring modules and their contents into your code."
      ],
      "metadata": {
        "id": "kGPdjXsr1_h8"
      }
    },
    {
      "cell_type": "markdown",
      "source": [
        "7.How can you handle multiple exceptions in Python?\n",
        "* Python allows you to catch multiple exceptions in a single 'except' block by specifying them as a tuple. This feature is useful when different exceptions require similar handling logic. In this case, if either 'ExceptionType1' or 'ExceptionType2' is raised, the code within the 'except' block will be executed."
      ],
      "metadata": {
        "id": "vHELmv0l3ZRb"
      }
    },
    {
      "cell_type": "markdown",
      "source": [
        "8.What is the purpose of the with statement when handling files in Python?\n",
        "* The with statement in Python simplifies resource management by automatically handling setup and cleanup, such as opening and closing files."
      ],
      "metadata": {
        "id": "VAzU9oKX36hw"
      }
    },
    {
      "cell_type": "markdown",
      "source": [
        "9.What is the difference between multithreading and multiprocessing?\n",
        "* Multithreading refers to the ability of a processor to execute multiple threads concurrently, where each thread runs a process. Multiprocessing refers to the ability of a system to run multiple processors in parallel, where each processor can run one or more threads."
      ],
      "metadata": {
        "id": "QPrsURWB36UJ"
      }
    },
    {
      "cell_type": "markdown",
      "source": [
        "10.What are the advantages of using logging in a program?\n",
        "* Logging offers significant advantages in software development, including improved debugging, easier troubleshooting, enhanced system observability, and better communication between developers and administrators."
      ],
      "metadata": {
        "id": "_gIrd6X85Er9"
      }
    },
    {
      "cell_type": "markdown",
      "source": [
        "11.What is memory management in Python?\n",
        "* Memory management refers to the process of controlling and coordinating the use of a computer's main memory (RAM). It ensures that running programs and the operating system have the memory they need, and that this memory is allocated, used, and released efficiently."
      ],
      "metadata": {
        "id": "eLVlHfE_36EF"
      }
    },
    {
      "cell_type": "markdown",
      "source": [
        "12.What are the basic steps involved in exception handling in Python?\n",
        "* Exception handling in Python involves a structured approach to manage errors that may arise during the execution of a program."
      ],
      "metadata": {
        "id": "oQOWiymW6S2f"
      }
    },
    {
      "cell_type": "markdown",
      "source": [
        "13. Why is memory management important in Python?\n",
        "* Without proper memory management, you can face challenges while building these applications, as effective memory allocation is necessary in order to avoid problems that can arise when you run out of memory, such as memory leaks."
      ],
      "metadata": {
        "id": "4pZ1AYxp6wx6"
      }
    },
    {
      "cell_type": "markdown",
      "source": [
        "14. What is the role of try and except in exception handling?\n",
        "* In exception handling, try and except blocks work together to gracefully handle errors or exceptions that may occur during code execution."
      ],
      "metadata": {
        "id": "TN526PFH7I_e"
      }
    },
    {
      "cell_type": "markdown",
      "source": [
        "15. How does Python's garbage collection system work?\n",
        "* Garbage Collection in Python is an automatic process that handles memory allocation and deallocation, ensuring efficient use of memory."
      ],
      "metadata": {
        "id": "W8K7Y5zA7I0N"
      }
    },
    {
      "cell_type": "markdown",
      "source": [
        "16.What is the purpose of the else block in exception handling?\n",
        "* The else keyword is used in conditional statements (if statements), and decides what to do if the condition is False. The else keyword can also be use in try... except blocks, see example below."
      ],
      "metadata": {
        "id": "yKYHatzr7IoG"
      }
    },
    {
      "cell_type": "markdown",
      "source": [
        "17. What are the common logging levels in Python?\n",
        "* There are six levels for logging in Python; each level is associated with an integer that indicates the log severity: NOTSET=0, DEBUG=10, INFO=20, WARN=30, ERROR=40, and CRITICAL=50."
      ],
      "metadata": {
        "id": "SoWNMX7r8mJr"
      }
    },
    {
      "cell_type": "markdown",
      "source": [
        "18. What is the difference between os.fork() and multiprocessing in Python?\n",
        "* The os.fork() system call and the multiprocessing module in Python both enable the creation of new processes, but they differ significantly in their approach, portability, and intended use cases."
      ],
      "metadata": {
        "id": "sYlVr26L8l3t"
      }
    },
    {
      "cell_type": "markdown",
      "source": [
        "19. What is the importance of closing a file in Python?\n",
        "* Closing files in Python is an essential practice that helps maintain data integrity, prevent resource leaks, and ensure the reliability of your applications."
      ],
      "metadata": {
        "id": "i8fiRkI3wAbg"
      }
    },
    {
      "cell_type": "markdown",
      "source": [
        "20. What is the difference between file.read() and file.readline() in Python?\n",
        "* In Python, the `read()` method is used to read a specified number of characters from a file or input stream, while the `readline()` method is used to read a single line from a file or input stream. The `read()` method will read the entire content of the file or stream if no argument is provided, returning a string."
      ],
      "metadata": {
        "id": "I9wgAhFxwb5K"
      }
    },
    {
      "cell_type": "markdown",
      "source": [
        "21. What is the logging module in Python used for?\n",
        "* The logging module in Python is used for recording events and debugging issues during application execution."
      ],
      "metadata": {
        "id": "uzn2WWodxH29"
      }
    },
    {
      "cell_type": "markdown",
      "source": [
        "22. What is the os module in Python used for in file handling?\n",
        "* Python has a built-in os module with methods for interacting with the operating system, like creating files and directories, management of files and directories, input, output, environment variables, process management, etc."
      ],
      "metadata": {
        "id": "zXNM-34exdNH"
      }
    },
    {
      "cell_type": "markdown",
      "source": [
        "23. What are the challenges associated with memory management in Python?\n",
        "* Challenges in Python Memory Management:\n",
        "1. Garbage Collection Overhead – Automatic but can slow performance.\n",
        "2. Memory Leaks – Caused by unused references, circular references, or poor coding patterns.\n",
        "3. High Object Overhead – Python objects use more memory than lower-level languages.\n",
        "4. Fragmentation – Memory can become fragmented over time.\n",
        "5. Limited Control – Less low-level control compared to C/C++.\n",
        "6. GIL Limitation – Affects memory handling in multi-threaded programs.\n",
        "\n"
      ],
      "metadata": {
        "id": "VyBnnT-sx9MF"
      }
    },
    {
      "cell_type": "markdown",
      "source": [
        "24. How do you raise an exception manually in Python?\n",
        "* To raise an exception manually in Python, the raise keyword is used, followed by the exception class or an instance of it. This allows for explicitly triggering exceptions based on specific conditions or logic within the code."
      ],
      "metadata": {
        "id": "hyg8iZyJ028e"
      }
    },
    {
      "cell_type": "markdown",
      "source": [
        "25. Why is it important to use multithreading in certain applications?\n",
        "* Multithreading is important in applications that benefit from concurrent execution of tasks, improved responsiveness, and efficient resource utilization."
      ],
      "metadata": {
        "id": "mRTXKEHE02qi"
      }
    },
    {
      "cell_type": "code",
      "source": [],
      "metadata": {
        "id": "e5iJ08pczWnh"
      },
      "execution_count": null,
      "outputs": []
    },
    {
      "cell_type": "markdown",
      "source": [
        "Practical **Questions**"
      ],
      "metadata": {
        "id": "Z0tOf40i1sNU"
      }
    },
    {
      "cell_type": "markdown",
      "source": [
        "1. How can you open a file for writing in Python and write a string to it"
      ],
      "metadata": {
        "id": "NE7x3wao16Wk"
      }
    },
    {
      "cell_type": "code",
      "source": [
        " file_path = \"my_file.txt\"\n",
        "text_to_write = \"This is a string to write to the file.\"\n",
        "\n",
        "with open(file_path, \"w\") as file:\n",
        "    file.write(text_to_write)"
      ],
      "metadata": {
        "id": "q6eB7BsI1-sB"
      },
      "execution_count": null,
      "outputs": []
    },
    {
      "cell_type": "markdown",
      "source": [
        "2. Write a Python program to read the contents of a file and print each line"
      ],
      "metadata": {
        "id": "BZKrf2VY2UOO"
      }
    },
    {
      "cell_type": "code",
      "source": [
        "L = [\"Greek\\n\", \"for\\n\", \"Greek\\n\"]\n",
        "\n",
        "# Writing to file\n",
        "file1 = open('myfile.txt', 'w')\n",
        "file1.writelines(L)\n",
        "file1.close()\n",
        "\n",
        "# Opening file\n",
        "file1 = open('myfile.txt', 'r')\n",
        "count = 0\n",
        "\n",
        "# Using for loop\n",
        "print(\"Using for loop\")\n",
        "for line in file1:\n",
        "    count += 1\n",
        "    print(\"Line{}: {}\".format(count, line.strip()))\n",
        "\n",
        "# Closing files\n",
        "file1.close()"
      ],
      "metadata": {
        "id": "_Z3XR9OzzEJz",
        "colab": {
          "base_uri": "https://localhost:8080/"
        },
        "outputId": "3dd4d416-a9f0-4ac5-dd65-2f2e453d9c8b"
      },
      "execution_count": null,
      "outputs": [
        {
          "output_type": "stream",
          "name": "stdout",
          "text": [
            "Using for loop\n",
            "Line1: Greek\n",
            "Line2: for\n",
            "Line3: Greek\n"
          ]
        }
      ]
    },
    {
      "cell_type": "code",
      "execution_count": null,
      "metadata": {
        "id": "2FikZyYUymeV",
        "colab": {
          "base_uri": "https://localhost:8080/"
        },
        "outputId": "fff48799-b1e1-406b-fecd-4bfc9d426d22"
      },
      "outputs": [
        {
          "output_type": "stream",
          "name": "stdout",
          "text": [
            "['Greek\\n', 'for\\n', 'Greek\\n']\n",
            "['Greek', 'for', 'Greek']\n"
          ]
        }
      ],
      "source": [
        "with open('myfile.txt') as f:\n",
        "    lines = [line for line in f]\n",
        "\n",
        "print(lines)\n",
        "\n",
        "# removing the new line characters\n",
        "with open('myfile.txt') as f:\n",
        "    lines = [line.rstrip() for line in f]\n",
        "\n",
        "print(lines)"
      ]
    },
    {
      "cell_type": "code",
      "source": [
        "L = [\"Greek\\n\", \"for\\n\", \"Greek\\n\"]\n",
        "\n",
        "# writing to file\n",
        "file1 = open('myfile.txt', 'w')\n",
        "file1.writelines(L)\n",
        "file1.close()\n",
        "\n",
        "# Using readlines()\n",
        "file1 = open('myfile.txt', 'r')\n",
        "Lines = file1.readlines()\n",
        "\n",
        "count = 0\n",
        "# Strips the newline character\n",
        "for line in Lines:\n",
        "    count += 1\n",
        "    print(\"Line{}: {}\".format(count, line.strip()))"
      ],
      "metadata": {
        "colab": {
          "base_uri": "https://localhost:8080/"
        },
        "id": "81yYg-ML5Sga",
        "outputId": "f979f35d-413f-4e18-edea-c794243d3fb5"
      },
      "execution_count": null,
      "outputs": [
        {
          "output_type": "stream",
          "name": "stdout",
          "text": [
            "Line1: Greek\n",
            "Line2: for\n",
            "Line3: Greek\n"
          ]
        }
      ]
    },
    {
      "cell_type": "markdown",
      "source": [
        "3. How would you handle a case where the file doesn't exist while trying to open it for reading?"
      ],
      "metadata": {
        "id": "z46nsvIn5erC"
      }
    },
    {
      "cell_type": "code",
      "source": [
        "try:\n",
        "    with open(\"abc.txt\", \"r\") as file:\n",
        "        data = file.read()\n",
        "except FileNotFoundError:\n",
        "    print(\"Not found\")"
      ],
      "metadata": {
        "colab": {
          "base_uri": "https://localhost:8080/"
        },
        "id": "cPrCY1fJ7ACz",
        "outputId": "2dd6e2c3-0b8a-41e9-c3d6-49a3405b7414"
      },
      "execution_count": null,
      "outputs": [
        {
          "output_type": "stream",
          "name": "stdout",
          "text": [
            "Not found\n"
          ]
        }
      ]
    },
    {
      "cell_type": "markdown",
      "source": [
        "4. Write a Python script that reads from one file and writes its content to another file?"
      ],
      "metadata": {
        "id": "PuHpNkVA708G"
      }
    },
    {
      "cell_type": "code",
      "source": [
        "def copy_file_content(source_file, destination_file):\n",
        "    \"\"\"\n",
        "    Copies the content of the source file to the destination file.\n",
        "\n",
        "    Args:\n",
        "        source_file (str): Path to the source file.\n",
        "        destination_file (str): Path to the destination file.\n",
        "    \"\"\"\n",
        "    try:\n",
        "        with open(source_file, 'r') as file_in, open(destination_file, 'w') as file_out:\n",
        "            for line in file_in:\n",
        "                file_out.write(line)\n",
        "        print(f\"Content of '{source_file}' successfully copied to '{destination_file}'.\")\n",
        "    except FileNotFoundError:\n",
        "        print(\"Error: One or both files not found.\")\n",
        "    except Exception as e:\n",
        "        print(f\"An error occurred: {e}\")\n",
        "\n",
        "# Example usage\n",
        "source_file_path = \"input.txt\"\n",
        "destination_file_path = \"output.txt\"\n",
        "copy_file_content(source_file_path, destination_file_path)"
      ],
      "metadata": {
        "colab": {
          "base_uri": "https://localhost:8080/"
        },
        "id": "aGjEHqUF79Rq",
        "outputId": "6182a519-bb93-4c41-c327-3c7810238e3b"
      },
      "execution_count": null,
      "outputs": [
        {
          "output_type": "stream",
          "name": "stdout",
          "text": [
            "Error: One or both files not found.\n"
          ]
        }
      ]
    },
    {
      "cell_type": "markdown",
      "source": [
        "5.How would you catch and handle division by zero error in Python?"
      ],
      "metadata": {
        "id": "IzsT-aiH8VFk"
      }
    },
    {
      "cell_type": "code",
      "source": [
        "try:\n",
        "    result = 10 / 0\n",
        "except ZeroDivisionError:\n",
        "    print(\"Error: Cannot divide by zero\")"
      ],
      "metadata": {
        "colab": {
          "base_uri": "https://localhost:8080/"
        },
        "id": "FmUEUKr18ihh",
        "outputId": "decf8133-ff16-482f-9f98-a78b5a0a7561"
      },
      "execution_count": null,
      "outputs": [
        {
          "output_type": "stream",
          "name": "stdout",
          "text": [
            "Error: Cannot divide by zero\n"
          ]
        }
      ]
    },
    {
      "cell_type": "markdown",
      "source": [
        "6. Write a Python program that logs an error message to a log file when a division by zero exception occurs?"
      ],
      "metadata": {
        "id": "mkFvlIco8w8P"
      }
    },
    {
      "cell_type": "code",
      "source": [
        "try:\n",
        "    result = 10 / 0\n",
        "except ZeroDivisionError:\n",
        "    print(\"Error: Cannot divide by zero\")"
      ],
      "metadata": {
        "colab": {
          "base_uri": "https://localhost:8080/"
        },
        "id": "qkCwveyc9IFP",
        "outputId": "13e5c44c-9ed9-445a-dd23-0628cf3b8166"
      },
      "execution_count": null,
      "outputs": [
        {
          "output_type": "stream",
          "name": "stdout",
          "text": [
            "Error: Cannot divide by zero\n"
          ]
        }
      ]
    },
    {
      "cell_type": "markdown",
      "source": [
        "7. How do you log information at different levels (INFO, ERROR, WARNING) in Python using the logging module"
      ],
      "metadata": {
        "id": "vxNxQO_p9TD9"
      }
    },
    {
      "cell_type": "code",
      "source": [
        "    import logging\n",
        "\n",
        "    logging.basicConfig(level=logging.INFO, format='%(asctime)s - %(levelname)s - %(message)s')\n",
        "\n",
        "    def divide(x, y):\n",
        "        try:\n",
        "            result = x / y\n",
        "        except ZeroDivisionError:\n",
        "            logging.error(f\"Division by zero attempt with x={x} and y={y}\")\n",
        "            return None\n",
        "        else:\n",
        "            logging.info(f\"Division successful: {x} / {y} = {result}\")\n",
        "            return result\n",
        "\n",
        "    divide(10, 2)\n",
        "    divide(5, 0)"
      ],
      "metadata": {
        "colab": {
          "base_uri": "https://localhost:8080/"
        },
        "id": "dMDZhg5V9Sn3",
        "outputId": "eb537cbd-545a-41ce-bf13-af0c0f7ab9ab"
      },
      "execution_count": null,
      "outputs": [
        {
          "output_type": "stream",
          "name": "stderr",
          "text": [
            "ERROR:root:Division by zero attempt with x=5 and y=0\n"
          ]
        }
      ]
    },
    {
      "cell_type": "markdown",
      "source": [
        "8. Write a program to handle a file opening error using exception handling?"
      ],
      "metadata": {
        "id": "VZx2ELxY9k1L"
      }
    },
    {
      "cell_type": "code",
      "source": [
        "def open_file_safely(filename):\n",
        "    try:\n",
        "        file = open(filename, 'r')\n",
        "        content = file.read()\n",
        "        file.close()\n",
        "        return content\n",
        "    except FileNotFoundError:\n",
        "        print(f\"Error: The file '{filename}' was not found.\")\n",
        "        return None\n",
        "    except Exception as e:\n",
        "        print(f\"An unexpected error occurred: {e}\")\n",
        "        return None\n",
        "\n",
        "filename = \"example.txt\"\n",
        "file_content = open_file_safely(filename)\n",
        "\n",
        "if file_content:\n",
        "    print(\"File content:\")\n",
        "    print(file_content)"
      ],
      "metadata": {
        "colab": {
          "base_uri": "https://localhost:8080/"
        },
        "id": "IMLcaqZv9u60",
        "outputId": "0e0b3236-1398-482d-bf66-fd0aee5893b2"
      },
      "execution_count": null,
      "outputs": [
        {
          "output_type": "stream",
          "name": "stdout",
          "text": [
            "Error: The file 'example.txt' was not found.\n"
          ]
        }
      ]
    },
    {
      "cell_type": "markdown",
      "source": [
        "9. How can you read a file line by line and store its content in a list in Python"
      ],
      "metadata": {
        "id": "-C1Cq9PQ968v"
      }
    },
    {
      "cell_type": "code",
      "source": [
        "def file_to_list(file_path):\n",
        "    \"\"\"Reads a file line by line and stores each line in a list.\n",
        "\n",
        "    Args:\n",
        "        file_path: The path to the file.\n",
        "\n",
        "    Returns:\n",
        "        A list where each element is a line from the file, or None if an error occurs.\n",
        "    \"\"\"\n",
        "    try:\n",
        "        with open(file_path, 'r') as file:\n",
        "            lines = file.readlines()\n",
        "            return [line.strip() for line in lines]  # Remove newline characters\n",
        "    except FileNotFoundError:\n",
        "        print(f\"Error: File not found at {file_path}\")\n",
        "        return None\n",
        "    except Exception as e:\n",
        "        print(f\"An error occurred: {e}\")\n",
        "        return None\n",
        "\n",
        "# Example usage:\n",
        "file_path = 'my_text_file.txt'\n",
        "# Create a dummy file for testing\n",
        "with open(file_path, 'w') as f:\n",
        "    f.write(\"This is line 1.\\n\")\n",
        "    f.write(\"This is line 2.\\n\")\n",
        "    f.write(\"This is line 3.\")\n",
        "\n",
        "content_list = file_to_list(file_path)\n",
        "\n",
        "if content_list:\n",
        "    print(content_list)"
      ],
      "metadata": {
        "colab": {
          "base_uri": "https://localhost:8080/"
        },
        "id": "BDx4jFsN-IH_",
        "outputId": "78956a79-dd0d-45e6-d4d0-5f72ac110367"
      },
      "execution_count": null,
      "outputs": [
        {
          "output_type": "stream",
          "name": "stdout",
          "text": [
            "['This is line 1.', 'This is line 2.', 'This is line 3.']\n"
          ]
        }
      ]
    },
    {
      "cell_type": "markdown",
      "source": [
        "10. How can you append data to an existing file in Python"
      ],
      "metadata": {
        "id": "5jjN8yhi-QC-"
      }
    },
    {
      "cell_type": "code",
      "source": [
        "with open(\"my_file.txt\", \"a\") as file:\n",
        "    file.write(\"This line is appended.\\n\")\n",
        "    file.write(\"Another line appended.\\n\")"
      ],
      "metadata": {
        "id": "5OzIAd9T-mzP"
      },
      "execution_count": null,
      "outputs": []
    },
    {
      "cell_type": "markdown",
      "source": [
        "11. Write a Python program that uses a try-except block to handle an error when attempting to access a\n",
        "dictionary key that doesn't exist"
      ],
      "metadata": {
        "id": "3vYytHuj-g2U"
      }
    },
    {
      "cell_type": "code",
      "source": [
        "my_dict = {\"apple\": 1, \"banana\": 2, \"cherry\": 3}\n",
        "\n",
        "try:\n",
        "    value = my_dict[\"date\"]\n",
        "    print(value)\n",
        "except KeyError:\n",
        "    print(\"Error: The key 'date' does not exist in the dictionary.\")"
      ],
      "metadata": {
        "colab": {
          "base_uri": "https://localhost:8080/"
        },
        "id": "YFphlmGFAQmW",
        "outputId": "6062d1aa-5e87-46d3-dec3-4e9bb3a16dc2"
      },
      "execution_count": 24,
      "outputs": [
        {
          "output_type": "stream",
          "name": "stdout",
          "text": [
            "Error: The key 'date' does not exist in the dictionary.\n"
          ]
        }
      ]
    },
    {
      "cell_type": "markdown",
      "source": [
        " 12. Write a program that demonstrates using multiple except blocks to handle different types of exceptions"
      ],
      "metadata": {
        "id": "yRKRZZemATPL"
      }
    },
    {
      "cell_type": "code",
      "source": [
        "def perform_operations(a, b, index):\n",
        "    try:\n",
        "        result = a / b\n",
        "        my_list = [10, 20, 30]\n",
        "        value = my_list[index]\n",
        "        print(\"Result of division:\", result)\n",
        "        print(\"Value at index\", index, \":\", value)\n",
        "    except ZeroDivisionError:\n",
        "        print(\"Error: Cannot divide by zero.\")\n",
        "    except IndexError:\n",
        "        print(\"Error: Index out of range.\")\n",
        "    except TypeError:\n",
        "        print(\"Error: Invalid input types.\")\n",
        "    except Exception as e:\n",
        "         print(f\"An unexpected error occurred: {e}\")\n",
        "\n",
        "perform_operations(10, 2, 1)\n",
        "perform_operations(10, 0, 2)\n",
        "perform_operations(10, \"hello\", 1)\n",
        "perform_operations(10, 2, 5)\n",
        "perform_operations(\"hello\", 2, 1)"
      ],
      "metadata": {
        "colab": {
          "base_uri": "https://localhost:8080/"
        },
        "id": "-wNy25DXGB3z",
        "outputId": "1284bbc5-c463-47dd-c74a-04f33b8c8f35"
      },
      "execution_count": 30,
      "outputs": [
        {
          "output_type": "stream",
          "name": "stdout",
          "text": [
            "Result of division: 5.0\n",
            "Value at index 1 : 20\n",
            "Error: Cannot divide by zero.\n",
            "Error: Invalid input types.\n",
            "Error: Index out of range.\n",
            "Error: Invalid input types.\n"
          ]
        }
      ]
    },
    {
      "cell_type": "markdown",
      "source": [
        " 13. How would you check if a file exists before attempting to read it in Python"
      ],
      "metadata": {
        "id": "O5H4LANuGIIR"
      }
    },
    {
      "cell_type": "code",
      "source": [
        "import os\n",
        "from pathlib import Path\n",
        "\n",
        "# Method 1: Using os.path.exists()\n",
        "file_path_os = \"path/to/your/file.txt\"\n",
        "if os.path.exists(file_path_os):\n",
        "    with open(file_path_os, 'r') as file:\n",
        "        content = file.read()\n",
        "        # Process file content\n",
        "    print(\"File read successfully using os.path.exists()\")\n",
        "else:\n",
        "    print(f\"File not found: {file_path_os}\")\n",
        "\n",
        "# Method 2: Using pathlib.Path.is_file()\n",
        "file_path_pathlib = Path(\"path/to/your/file.txt\")\n",
        "if file_path_pathlib.is_file():\n",
        "    with open(file_path_pathlib, 'r') as file:\n",
        "        content = file.read()\n",
        "        # Process file content\n",
        "    print(\"File read successfully using pathlib.Path.is_file()\")\n",
        "else:\n",
        "    print(f\"File not found: {file_path_pathlib}\")"
      ],
      "metadata": {
        "colab": {
          "base_uri": "https://localhost:8080/"
        },
        "id": "dp9SV-CbGULm",
        "outputId": "42d46c6e-aa11-49a7-f027-eca909b4fabc"
      },
      "execution_count": 31,
      "outputs": [
        {
          "output_type": "stream",
          "name": "stdout",
          "text": [
            "File not found: path/to/your/file.txt\n",
            "File not found: path/to/your/file.txt\n"
          ]
        }
      ]
    },
    {
      "cell_type": "markdown",
      "source": [
        "14. Write a program that uses the logging module to log both informational and error messages"
      ],
      "metadata": {
        "id": "yDz81PhZGcP0"
      }
    },
    {
      "cell_type": "code",
      "source": [
        "import logging\n",
        "\n",
        "# Configure logging settings\n",
        "logging.basicConfig(\n",
        "    level=logging.INFO,\n",
        "    format='%(asctime)s - %(levelname)s - %(message)s',\n",
        "    handlers=[\n",
        "        logging.FileHandler(\"app.log\"),\n",
        "        logging.StreamHandler()\n",
        "    ]\n",
        ")\n",
        "\n",
        "def divide(x, y):\n",
        "    \"\"\"Divides two numbers and logs the operation and result.\"\"\"\n",
        "    logging.info(f\"Dividing {x} by {y}\")\n",
        "    try:\n",
        "        result = x / y\n",
        "        logging.info(f\"Result: {result}\")\n",
        "        return result\n",
        "    except ZeroDivisionError:\n",
        "        logging.error(f\"Cannot divide {x} by zero\")\n",
        "        return None\n",
        "\n",
        "# Example usage\n",
        "divide(10, 2)\n",
        "divide(5, 0)\n",
        "\n",
        "logging.info(\"Program finished\")"
      ],
      "metadata": {
        "colab": {
          "base_uri": "https://localhost:8080/"
        },
        "id": "VJv9_ZAXGU6Y",
        "outputId": "fd853b29-1605-4869-a54f-7a372d2c606d"
      },
      "execution_count": 32,
      "outputs": [
        {
          "output_type": "stream",
          "name": "stderr",
          "text": [
            "ERROR:root:Cannot divide 5 by zero\n"
          ]
        }
      ]
    },
    {
      "cell_type": "markdown",
      "source": [
        "15. Write a Python program that prints the content of a file and handles the case when the file is empty"
      ],
      "metadata": {
        "id": "ZyCIr95UHEIM"
      }
    },
    {
      "cell_type": "code",
      "source": [
        "def print_file_contents(filename):\n",
        "  \"\"\"\n",
        "  Prints the contents of a file, handling the case where the file is empty.\n",
        "\n",
        "  Args:\n",
        "    filename: The name of the file to read.\n",
        "  \"\"\"\n",
        "  try:\n",
        "    with open(filename, 'r') as file:\n",
        "      content = file.read()\n",
        "      if content:\n",
        "        print(content)\n",
        "      else:\n",
        "        print(f\"The file '{filename}' is empty.\")\n",
        "  except FileNotFoundError:\n",
        "    print(f\"Error: File '{filename}' not found.\")\n",
        "  except Exception as e:\n",
        "    print(f\"An error occurred: {e}\")\n",
        "\n",
        "# Example usage:\n",
        "file_to_read = \"my_file.txt\"  # Replace with the actual file name\n",
        "print_file_contents(file_to_read)"
      ],
      "metadata": {
        "colab": {
          "base_uri": "https://localhost:8080/"
        },
        "id": "LmCckhnmHdDN",
        "outputId": "202f33c0-7a45-4d92-a7db-742b5f31a741"
      },
      "execution_count": 33,
      "outputs": [
        {
          "output_type": "stream",
          "name": "stdout",
          "text": [
            "This is a string to write to the file.This line is appended.\n",
            "Another line appended.\n",
            "\n"
          ]
        }
      ]
    },
    {
      "cell_type": "markdown",
      "source": [
        "16. Demonstrate how to use memory profiling to check the memory usage of a small program"
      ],
      "metadata": {
        "id": "zQtWeQq4HlZ2"
      }
    },
    {
      "cell_type": "code",
      "source": [
        "# Using psutil\n",
        "import psutil\n",
        "\n",
        "def monitor_memory_usage():\n",
        "    \"\"\"\n",
        "    This function monitors memory usage using psutil.\n",
        "    \"\"\"\n",
        "    process = psutil.Process()\n",
        "    print(f\"Memory usage before allocating data: {process.memory_info().rss / 1024 / 1024:.2f} MB\")\n",
        "\n",
        "    # Allocate a large list\n",
        "    data = [i for i in range(1000000)]\n",
        "\n",
        "    print(f\"Memory usage after allocating data: {process.memory_info().rss / 1024 / 1024:.2f} MB\")\n",
        "\n",
        "if __name__ == \"__main__\":\n",
        "  monitor_memory_usage()"
      ],
      "metadata": {
        "colab": {
          "base_uri": "https://localhost:8080/"
        },
        "id": "1qjU7nxVIZY9",
        "outputId": "b731170f-401c-404f-e80d-0dc6bbfc83a7"
      },
      "execution_count": 35,
      "outputs": [
        {
          "output_type": "stream",
          "name": "stdout",
          "text": [
            "Memory usage before allocating data: 115.71 MB\n",
            "Memory usage after allocating data: 155.13 MB\n"
          ]
        }
      ]
    },
    {
      "cell_type": "markdown",
      "source": [
        "17. Write a Python program to create and write a list of numbers to a file, one number per line"
      ],
      "metadata": {
        "id": "l2ATR5rUIfL7"
      }
    },
    {
      "cell_type": "code",
      "source": [
        "def write_numbers_to_file(filename, numbers):\n",
        "    \"\"\"Writes a list of numbers to a file, one number per line.\n",
        "\n",
        "    Args:\n",
        "        filename: The name of the file to write to.\n",
        "        numbers: A list of numbers.\n",
        "    \"\"\"\n",
        "    with open(filename, 'w') as file:\n",
        "        for number in numbers:\n",
        "            file.write(str(number) + '\\n')\n",
        "\n",
        "# Example usage:\n",
        "numbers = [10, 20, 30, 40, 50]\n",
        "filename = \"numbers.txt\"\n",
        "write_numbers_to_file(filename, numbers)\n",
        "\n",
        "#Verify\n",
        "with open(filename, 'r') as file:\n",
        "    for line in file:\n",
        "        print(line.strip())"
      ],
      "metadata": {
        "colab": {
          "base_uri": "https://localhost:8080/"
        },
        "id": "wQRGvmiiI9fR",
        "outputId": "65ad495c-f6da-4e07-f87e-b8ec2bd682da"
      },
      "execution_count": 36,
      "outputs": [
        {
          "output_type": "stream",
          "name": "stdout",
          "text": [
            "10\n",
            "20\n",
            "30\n",
            "40\n",
            "50\n"
          ]
        }
      ]
    },
    {
      "cell_type": "markdown",
      "source": [
        "18. How would you implement a basic logging setup that logs to a file with rotation after 1MB"
      ],
      "metadata": {
        "id": "hYzb0b90JPAu"
      }
    },
    {
      "cell_type": "code",
      "source": [
        "import logging\n",
        "from logging.handlers import RotatingFileHandler\n",
        "\n",
        "# Set up logger\n",
        "logger = logging.getLogger(\"MyLogger\")\n",
        "logger.setLevel(logging.INFO)\n",
        "\n",
        "# Create rotating file handler (1MB per file, keep 3 backups)\n",
        "handler = RotatingFileHandler(\"app.log\", maxBytes=1_000_000, backupCount=3)\n",
        "formatter = logging.Formatter('%(asctime)s - %(levelname)s - %(message)s')\n",
        "handler.setFormatter(formatter)\n",
        "\n",
        "# Add handler to logger\n",
        "logger.addHandler(handler)\n",
        "\n",
        "# Example log messages\n",
        "logger.info(\"This is an info message.\")\n",
        "logger.warning(\"This is a warning.\")\n",
        "logger.error(\"This is an error.\")\n",
        "# Set up logger\n",
        "logger = logging.getLogger(\"MyLogger\")\n",
        "logger.setLevel(logging.INFO)\n",
        "\n",
        "# Create rotating file handler (1MB per file, keep 3 backups)\n",
        "handler = RotatingFileHandler(\"app.log\", maxBytes=1_000_000, backupCount=3)\n",
        "formatter = logging.Formatter('%(asctime)s - %(levelname)s - %(message)s')\n",
        "handler.setFormatter(formatter)\n",
        "\n",
        "# Add handler to logger\n",
        "logger.addHandler(handler)\n",
        "\n",
        "# Example log messages\n",
        "logger.info(\"This is an info message.\")\n",
        "logger.warning(\"This is a warning.\")\n",
        "logger.error(\"This is an error.\")"
      ],
      "metadata": {
        "colab": {
          "base_uri": "https://localhost:8080/"
        },
        "id": "ErhNFDq0VEZQ",
        "outputId": "57c61a5c-e20f-403d-f259-4e748aa5b7b4"
      },
      "execution_count": 39,
      "outputs": [
        {
          "output_type": "stream",
          "name": "stderr",
          "text": [
            "INFO:MyLogger:This is an info message.\n",
            "WARNING:MyLogger:This is a warning.\n",
            "ERROR:MyLogger:This is an error.\n",
            "INFO:MyLogger:This is an info message.\n",
            "WARNING:MyLogger:This is a warning.\n",
            "ERROR:MyLogger:This is an error.\n"
          ]
        }
      ]
    },
    {
      "cell_type": "markdown",
      "source": [
        "19. Write a program that handles both IndexError and KeyError using a try-except block"
      ],
      "metadata": {
        "id": "dYUWrfcbVb81"
      }
    },
    {
      "cell_type": "code",
      "source": [
        "data = {'a': 1, 'b': 2, 'c': 3}\n",
        "my_list = [10, 20, 30]\n",
        "\n",
        "try:\n",
        "    index = int(input(\"Enter the index for the list: \"))\n",
        "    print(\"List element:\", my_list[index])\n",
        "\n",
        "    key = input(\"Enter the key for the dictionary: \")\n",
        "    print(\"Dictionary value:\", data[key])\n",
        "\n",
        "except (IndexError, KeyError) as e:\n",
        "    print(f\"Error: {e}\")\n",
        "except ValueError:\n",
        "    print(\"Invalid input. Please enter an integer for the index.\")"
      ],
      "metadata": {
        "colab": {
          "base_uri": "https://localhost:8080/",
          "height": 356
        },
        "id": "Td5y76Z3WFhl",
        "outputId": "8c3e9c5e-f542-467d-a984-d7c026420b14"
      },
      "execution_count": 42,
      "outputs": [
        {
          "output_type": "error",
          "ename": "KeyboardInterrupt",
          "evalue": "Interrupted by user",
          "traceback": [
            "\u001b[0;31m---------------------------------------------------------------------------\u001b[0m",
            "\u001b[0;31mKeyboardInterrupt\u001b[0m                         Traceback (most recent call last)",
            "\u001b[0;32m<ipython-input-42-9019030adb25>\u001b[0m in \u001b[0;36m<cell line: 0>\u001b[0;34m()\u001b[0m\n\u001b[1;32m      3\u001b[0m \u001b[0;34m\u001b[0m\u001b[0m\n\u001b[1;32m      4\u001b[0m \u001b[0;32mtry\u001b[0m\u001b[0;34m:\u001b[0m\u001b[0;34m\u001b[0m\u001b[0;34m\u001b[0m\u001b[0m\n\u001b[0;32m----> 5\u001b[0;31m     \u001b[0mindex\u001b[0m \u001b[0;34m=\u001b[0m \u001b[0mint\u001b[0m\u001b[0;34m(\u001b[0m\u001b[0minput\u001b[0m\u001b[0;34m(\u001b[0m\u001b[0;34m\"Enter the index for the list: \"\u001b[0m\u001b[0;34m)\u001b[0m\u001b[0;34m)\u001b[0m\u001b[0;34m\u001b[0m\u001b[0;34m\u001b[0m\u001b[0m\n\u001b[0m\u001b[1;32m      6\u001b[0m     \u001b[0mprint\u001b[0m\u001b[0;34m(\u001b[0m\u001b[0;34m\"List element:\"\u001b[0m\u001b[0;34m,\u001b[0m \u001b[0mmy_list\u001b[0m\u001b[0;34m[\u001b[0m\u001b[0mindex\u001b[0m\u001b[0;34m]\u001b[0m\u001b[0;34m)\u001b[0m\u001b[0;34m\u001b[0m\u001b[0;34m\u001b[0m\u001b[0m\n\u001b[1;32m      7\u001b[0m \u001b[0;34m\u001b[0m\u001b[0m\n",
            "\u001b[0;32m/usr/local/lib/python3.11/dist-packages/ipykernel/kernelbase.py\u001b[0m in \u001b[0;36mraw_input\u001b[0;34m(self, prompt)\u001b[0m\n\u001b[1;32m   1175\u001b[0m                 \u001b[0;34m\"raw_input was called, but this frontend does not support input requests.\"\u001b[0m\u001b[0;34m\u001b[0m\u001b[0;34m\u001b[0m\u001b[0m\n\u001b[1;32m   1176\u001b[0m             )\n\u001b[0;32m-> 1177\u001b[0;31m         return self._input_request(\n\u001b[0m\u001b[1;32m   1178\u001b[0m             \u001b[0mstr\u001b[0m\u001b[0;34m(\u001b[0m\u001b[0mprompt\u001b[0m\u001b[0;34m)\u001b[0m\u001b[0;34m,\u001b[0m\u001b[0;34m\u001b[0m\u001b[0;34m\u001b[0m\u001b[0m\n\u001b[1;32m   1179\u001b[0m             \u001b[0mself\u001b[0m\u001b[0;34m.\u001b[0m\u001b[0m_parent_ident\u001b[0m\u001b[0;34m[\u001b[0m\u001b[0;34m\"shell\"\u001b[0m\u001b[0;34m]\u001b[0m\u001b[0;34m,\u001b[0m\u001b[0;34m\u001b[0m\u001b[0;34m\u001b[0m\u001b[0m\n",
            "\u001b[0;32m/usr/local/lib/python3.11/dist-packages/ipykernel/kernelbase.py\u001b[0m in \u001b[0;36m_input_request\u001b[0;34m(self, prompt, ident, parent, password)\u001b[0m\n\u001b[1;32m   1217\u001b[0m             \u001b[0;32mexcept\u001b[0m \u001b[0mKeyboardInterrupt\u001b[0m\u001b[0;34m:\u001b[0m\u001b[0;34m\u001b[0m\u001b[0;34m\u001b[0m\u001b[0m\n\u001b[1;32m   1218\u001b[0m                 \u001b[0;31m# re-raise KeyboardInterrupt, to truncate traceback\u001b[0m\u001b[0;34m\u001b[0m\u001b[0;34m\u001b[0m\u001b[0m\n\u001b[0;32m-> 1219\u001b[0;31m                 \u001b[0;32mraise\u001b[0m \u001b[0mKeyboardInterrupt\u001b[0m\u001b[0;34m(\u001b[0m\u001b[0;34m\"Interrupted by user\"\u001b[0m\u001b[0;34m)\u001b[0m \u001b[0;32mfrom\u001b[0m \u001b[0;32mNone\u001b[0m\u001b[0;34m\u001b[0m\u001b[0;34m\u001b[0m\u001b[0m\n\u001b[0m\u001b[1;32m   1220\u001b[0m             \u001b[0;32mexcept\u001b[0m \u001b[0mException\u001b[0m\u001b[0;34m:\u001b[0m\u001b[0;34m\u001b[0m\u001b[0;34m\u001b[0m\u001b[0m\n\u001b[1;32m   1221\u001b[0m                 \u001b[0mself\u001b[0m\u001b[0;34m.\u001b[0m\u001b[0mlog\u001b[0m\u001b[0;34m.\u001b[0m\u001b[0mwarning\u001b[0m\u001b[0;34m(\u001b[0m\u001b[0;34m\"Invalid Message:\"\u001b[0m\u001b[0;34m,\u001b[0m \u001b[0mexc_info\u001b[0m\u001b[0;34m=\u001b[0m\u001b[0;32mTrue\u001b[0m\u001b[0;34m)\u001b[0m\u001b[0;34m\u001b[0m\u001b[0;34m\u001b[0m\u001b[0m\n",
            "\u001b[0;31mKeyboardInterrupt\u001b[0m: Interrupted by user"
          ]
        }
      ]
    },
    {
      "cell_type": "markdown",
      "source": [
        "20.  How would you open a file and read its contents using a context manager in Python"
      ],
      "metadata": {
        "id": "wMXtbqwxWYAU"
      }
    },
    {
      "cell_type": "code",
      "source": [
        "def read_file_with_context_manager(filename):\n",
        "    \"\"\"Opens a file in read mode using a context manager and returns its content.\n",
        "\n",
        "    Args:\n",
        "        filename (str): The name of the file to read.\n",
        "\n",
        "    Returns:\n",
        "        str: The content of the file, or None if an error occurs.\n",
        "    \"\"\"\n",
        "    try:\n",
        "        with open(filename, 'r') as file:\n",
        "            content = file.read()\n",
        "            return content\n",
        "    except FileNotFoundError:\n",
        "        print(f\"Error: File '{filename}' not found.\")\n",
        "        return None\n",
        "    except Exception as e:\n",
        "        print(f\"An error occurred: {e}\")\n",
        "        return None\n",
        "\n",
        "# Example usage:\n",
        "file_content = read_file_with_context_manager(\"my_text_file.txt\")\n",
        "\n",
        "if file_content:\n",
        "    print(file_content)"
      ],
      "metadata": {
        "colab": {
          "base_uri": "https://localhost:8080/"
        },
        "id": "Wg8FQICpWjFT",
        "outputId": "fb38c40e-389d-4c5b-918f-0ee24845882c"
      },
      "execution_count": 43,
      "outputs": [
        {
          "output_type": "stream",
          "name": "stdout",
          "text": [
            "This is line 1.\n",
            "This is line 2.\n",
            "This is line 3.\n"
          ]
        }
      ]
    },
    {
      "cell_type": "markdown",
      "source": [
        "22. How can you check if a file is empty before attempting to read its contents"
      ],
      "metadata": {
        "id": "GAnIk89AW6wO"
      }
    },
    {
      "cell_type": "code",
      "source": [
        "# import required libraries\n",
        "import os\n",
        "\n",
        "# file_path to check whether it is empty\n",
        "file_path = \"/Users/girish/Desktop/GFG Internship/input.txt\"\n",
        "\n",
        "try:\n",
        "    # get the size of file\n",
        "    file_size = os.path.getsize(file_path)\n",
        "\n",
        "    # if file size is 0, it is empty\n",
        "    if file_size == 0:\n",
        "        print(\"File is empty\")\n",
        "    else:\n",
        "        print(\"File is NOT empty\")\n",
        "\n",
        "# if file does not exist, then exception occurs\n",
        "except FileNotFoundError as e:\n",
        "    print(\"File NOT found\")"
      ],
      "metadata": {
        "colab": {
          "base_uri": "https://localhost:8080/"
        },
        "id": "0_xFkiA1X_84",
        "outputId": "b4d07840-9b06-40e6-a816-d01518cf9b9f"
      },
      "execution_count": 46,
      "outputs": [
        {
          "output_type": "stream",
          "name": "stdout",
          "text": [
            "File NOT found\n"
          ]
        }
      ]
    },
    {
      "cell_type": "markdown",
      "source": [
        "23. Write a Python program that writes to a log file when an error occurs during file handling"
      ],
      "metadata": {
        "id": "bjm20oj0YNgd"
      }
    },
    {
      "cell_type": "code",
      "source": [
        "import logging\n",
        "\n",
        "logging.basicConfig(filename='file_handling_errors.log', level=logging.ERROR,\n",
        "                    format='%(asctime)s - %(levelname)s - %(message)s')\n",
        "\n",
        "def process_file(file_path):\n",
        "    try:\n",
        "        with open(file_path, 'r') as file:\n",
        "            content = file.read()\n",
        "            # Simulate an error for demonstration\n",
        "            result = 10 / 0\n",
        "            return content\n",
        "    except FileNotFoundError:\n",
        "        logging.error(f\"File not found: {file_path}\")\n",
        "        return None\n",
        "    except ZeroDivisionError:\n",
        "         logging.error(f\"Zero division error while processing: {file_path}\")\n",
        "         return None\n",
        "    except Exception as e:\n",
        "        logging.error(f\"An unexpected error occurred while processing {file_path}: {e}\")\n",
        "        return None\n",
        "\n",
        "# Example usage\n",
        "file_path = 'example.txt'\n",
        "content = process_file(file_path)\n",
        "\n",
        "if content:\n",
        "    print(\"File processed successfully\")\n",
        "else:\n",
        "    print(\"File processing failed. Check the log file for details.\")"
      ],
      "metadata": {
        "colab": {
          "base_uri": "https://localhost:8080/"
        },
        "id": "RtOaZpHTYYHA",
        "outputId": "14b8f1a5-d02b-4558-a7d7-3039c2e0fceb"
      },
      "execution_count": 47,
      "outputs": [
        {
          "output_type": "stream",
          "name": "stderr",
          "text": [
            "ERROR:root:File not found: example.txt\n"
          ]
        },
        {
          "output_type": "stream",
          "name": "stdout",
          "text": [
            "File processing failed. Check the log file for details.\n"
          ]
        }
      ]
    }
  ]
}